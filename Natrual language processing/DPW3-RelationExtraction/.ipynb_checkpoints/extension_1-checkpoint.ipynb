{
 "cells": [
  {
   "cell_type": "code",
   "execution_count": 110,
   "id": "1271ef18",
   "metadata": {},
   "outputs": [],
   "source": [
    "import numpy as np\n",
    "import pandas as pd\n",
    "import re\n",
    "from transformers import BertTokenizer"
   ]
  },
  {
   "cell_type": "markdown",
   "id": "c956ad82",
   "metadata": {},
   "source": [
    "# Dataset reading\n",
    "We seperating the dataset line by lline with the corresponding features"
   ]
  },
  {
   "cell_type": "code",
   "execution_count": 111,
   "id": "f9b5b8ed",
   "metadata": {},
   "outputs": [],
   "source": [
    "def read_data(path):\n",
    "    sentence_list = []\n",
    "    e12_list = []\n",
    "    label_list = []\n",
    "    comment_list = []\n",
    "    ID_list = []\n",
    "    count=0\n",
    "    tag_list = [\"<e1>\",\"</e1>\",\"<e2>\",\"</e2>\"]\n",
    "    with open(path, \"r\") as f:\n",
    "        lines = f.readlines()\n",
    "        for line_index in range(0,len(lines),4):\n",
    "            # append id\n",
    "            ID_list.append(int(line_index/4+1))\n",
    "            \n",
    "            # append e12\n",
    "            try:\n",
    "                e1 = lines[line_index][:-1].split(\"<e1>\")[1].split(\"</e1>\")[0]\n",
    "                e2 = lines[line_index][:-1].split(\"<e2>\")[1].split(\"</e2>\")[0]\n",
    "                e12_list.append([e1,e2])\n",
    "            except:\n",
    "                print(setence)\n",
    "                return 0\n",
    "            \n",
    "            # append sentence\n",
    "            setence = (lines[line_index][:-1].split(\"\\t\")[1])[1:-1]\n",
    "            for tag in tag_list:\n",
    "                setence = setence.replace(tag, '')\n",
    "                \n",
    "            sentence_list.append(setence)\n",
    "            \n",
    "            # append label and comment\n",
    "            label_list.append(lines[line_index+1][:-1])\n",
    "            comment_list.append(lines[line_index+2][9:-1])\n",
    "#             count+=1\n",
    "#             if count>100:\n",
    "#                 print(ID_list)\n",
    "#                 print(e12_list)\n",
    "#                 print(sentence_list)\n",
    "#                 print(comment_list)\n",
    "#                 print(label_list)\n",
    "#                 return 0\n",
    "        return ID_list,sentence_list,e12_list,label_list,comment_list"
   ]
  },
  {
   "cell_type": "code",
   "execution_count": 119,
   "id": "00ae2c33",
   "metadata": {},
   "outputs": [],
   "source": [
    "train_path = \"./TRAIN_FILE.TXT\"\n",
    "test_path = \"./FULL_TEST.txt\"\n",
    "ID_list,sentence_list,e12_list,label_list,comment_list = read_data(train_path)\n",
    "ID_list_test,sentence_list_test,e12_list_test,label_list_test,comment_list_test = read_data(test_path)"
   ]
  },
  {
   "cell_type": "markdown",
   "id": "8577d308",
   "metadata": {},
   "source": [
    "The following are the feature we make:"
   ]
  },
  {
   "cell_type": "code",
   "execution_count": 120,
   "id": "89e3f623",
   "metadata": {},
   "outputs": [
    {
     "data": {
      "text/plain": [
       "[1, 2, 3]"
      ]
     },
     "metadata": {},
     "output_type": "display_data"
    }
   ],
   "source": [
    "display(ID_list[:3])"
   ]
  },
  {
   "cell_type": "code",
   "execution_count": 121,
   "id": "417bc1b9",
   "metadata": {},
   "outputs": [
    {
     "data": {
      "text/plain": [
       "['The system as described above has its greatest application in an arrayed configuration of antenna elements.',\n",
       " 'The child was carefully wrapped and bound into the cradle by means of a cord.',\n",
       " 'The author of a keygen uses a disassembler to look at the raw assembly code.']"
      ]
     },
     "metadata": {},
     "output_type": "display_data"
    }
   ],
   "source": [
    "display(sentence_list[:3])"
   ]
  },
  {
   "cell_type": "code",
   "execution_count": 122,
   "id": "4b6ad1a3",
   "metadata": {},
   "outputs": [
    {
     "data": {
      "text/plain": [
       "[['configuration', 'elements'],\n",
       " ['child', 'cradle'],\n",
       " ['author', 'disassembler']]"
      ]
     },
     "metadata": {},
     "output_type": "display_data"
    }
   ],
   "source": [
    "display(e12_list[:3])"
   ]
  },
  {
   "cell_type": "code",
   "execution_count": 123,
   "id": "27aa7690",
   "metadata": {},
   "outputs": [
    {
     "data": {
      "text/plain": [
       "['Component-Whole(e2,e1)', 'Other', 'Instrument-Agency(e2,e1)']"
      ]
     },
     "metadata": {},
     "output_type": "display_data"
    }
   ],
   "source": [
    "display(label_list[:3])"
   ]
  },
  {
   "cell_type": "code",
   "execution_count": 125,
   "id": "a03e7593",
   "metadata": {},
   "outputs": [
    {
     "data": {
      "text/plain": [
       "['Not a collection: there is structure here, organisation.', '', '']"
      ]
     },
     "metadata": {},
     "output_type": "display_data"
    }
   ],
   "source": [
    "display(comment_list[:3])"
   ]
  },
  {
   "cell_type": "code",
   "execution_count": 131,
   "id": "b0f305ac",
   "metadata": {
    "scrolled": true
   },
   "outputs": [
    {
     "data": {
      "text/plain": [
       "['Member-Collection(e2,e1)',\n",
       " 'Content-Container(e2,e1)',\n",
       " 'Cause-Effect(e1,e2)',\n",
       " 'Entity-Destination(e2,e1)',\n",
       " 'Message-Topic(e2,e1)',\n",
       " 'Component-Whole(e1,e2)',\n",
       " 'Message-Topic(e1,e2)',\n",
       " 'Entity-Origin(e2,e1)',\n",
       " 'Instrument-Agency(e1,e2)',\n",
       " 'Component-Whole(e2,e1)',\n",
       " 'Cause-Effect(e2,e1)',\n",
       " 'Product-Producer(e1,e2)',\n",
       " 'Member-Collection(e1,e2)',\n",
       " 'Instrument-Agency(e2,e1)',\n",
       " 'Content-Container(e1,e2)',\n",
       " 'Other',\n",
       " 'Entity-Origin(e1,e2)',\n",
       " 'Entity-Destination(e1,e2)',\n",
       " 'Product-Producer(e2,e1)']"
      ]
     },
     "execution_count": 131,
     "metadata": {},
     "output_type": "execute_result"
    }
   ],
   "source": [
    "classes = list(set(label_list))\n",
    "classes"
   ]
  },
  {
   "cell_type": "code",
   "execution_count": 134,
   "id": "f8bb9385",
   "metadata": {},
   "outputs": [
    {
     "name": "stdout",
     "output_type": "stream",
     "text": [
      "Total number of the training set is 8000\n",
      "Total number of the testing set is 2717\n"
     ]
    }
   ],
   "source": [
    "print(\"Total number of the training set is\",len(ID_list))\n",
    "print(\"Total number of the testing set is\",len(ID_list_test))"
   ]
  },
  {
   "cell_type": "markdown",
   "id": "75020b3e",
   "metadata": {},
   "source": [
    "# Named entity type\n",
    "In this project, I will finish the task of named entity type, which is return the prediction for the labeled entity. "
   ]
  },
  {
   "cell_type": "markdown",
   "id": "6ce80991",
   "metadata": {},
   "source": [
    "Example:"
   ]
  },
  {
   "cell_type": "markdown",
   "id": "ecc65184",
   "metadata": {},
   "source": [
    "\"**American Airlines**, a unit of AMR, immediately matched the move, spokesman **Tim Wagner** said\" \n",
    "\n",
    "1. E1: ORGANIZATION\n",
    "\n",
    "2. E2: PERSON\n",
    "\n",
    "3. E1+E2: ORGANIZATION-PERSON"
   ]
  },
  {
   "cell_type": "markdown",
   "id": "cb3ca0c2",
   "metadata": {},
   "source": [
    "## loading the tokenizer"
   ]
  },
  {
   "cell_type": "code",
   "execution_count": null,
   "id": "1a1c7c1d",
   "metadata": {},
   "outputs": [],
   "source": [
    "token = BertTokenizer.from_pretrained('bert-base-chinese')\n",
    "\n",
    "token"
   ]
  },
  {
   "cell_type": "markdown",
   "id": "511450b8",
   "metadata": {},
   "source": [
    "Macro-F1 score of the model is"
   ]
  },
  {
   "cell_type": "code",
   "execution_count": null,
   "id": "7e59f426",
   "metadata": {},
   "outputs": [],
   "source": []
  }
 ],
 "metadata": {
  "kernelspec": {
   "display_name": "Python 3",
   "language": "python",
   "name": "python3"
  },
  "language_info": {
   "codemirror_mode": {
    "name": "ipython",
    "version": 3
   },
   "file_extension": ".py",
   "mimetype": "text/x-python",
   "name": "python",
   "nbconvert_exporter": "python",
   "pygments_lexer": "ipython3",
   "version": "3.8.8"
  }
 },
 "nbformat": 4,
 "nbformat_minor": 5
}
