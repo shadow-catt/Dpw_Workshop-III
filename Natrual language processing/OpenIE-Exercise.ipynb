{
 "cells": [
  {
   "cell_type": "markdown",
   "metadata": {},
   "source": [
    "## Open Information Extraction\n",
    "Open information extraction (open IE) refers to the extraction of relation tuples, typically binary relations, from plain text, such as (Mark Zuckerberg; founded; Facebook). The central difference from other information extraction is that the schema for these relations does not need to be specified in advance; typically the relation name is just the text linking two arguments.\n",
    "- StanfordOpenIE (https://nlp.stanford.edu/software/openie.html) StanfordOpenIE is part of StanfordCoreNLP, which is built on top of PyTorch 1.0.0. \n",
    " - Therefore, first install pytorch (https://pytorch.org/get-started/locally/), select your  os, package, language, cuda , then use the   command to install.\n",
    " - Install StanfordOpenIE using ``pip install stanford-openie``(https://pypi.org/project/stanford-openie/)\n",
    " - Install Java SE Development Kit 8 (https://www.oracle.com/technetwork/java/javase/downloads/jdk8-downloads-2133151.html/)\n",
    " - Install graphviz : conda install python-graphviz\n",
    " - Unzip the stanford-corenlp-full-2018-10-05.zip to \"C:\\Users\\UIC\\stanfordnlp_resources\""
   ]
  },
  {
   "cell_type": "code",
   "execution_count": 1,
   "metadata": {},
   "outputs": [],
   "source": [
    "import nltk\n",
    "from nltk import pos_tag, word_tokenize, ne_chunk, Tree\n",
    "from openie import StanfordOpenIE\n",
    "from graphviz import Digraph"
   ]
  },
  {
   "cell_type": "markdown",
   "metadata": {},
   "source": [
    "### Triple Extraction from text using ``StanfordOpenIE``"
   ]
  },
  {
   "cell_type": "code",
   "execution_count": 2,
   "metadata": {},
   "outputs": [
    {
     "name": "stdout",
     "output_type": "stream",
     "text": [
      "Text: Barack Obama was the 44th president of the United States.\n",
      "Starting server with command: java -Xmx8G -cp C:\\Users\\Lenovo\\.stanfordnlp_resources\\stanford-corenlp-4.1.0/* edu.stanford.nlp.pipeline.StanfordCoreNLPServer -port 9000 -timeout 60000 -threads 5 -maxCharLength 100000 -quiet True -serverProperties corenlp_server-22f8a4af4bcc4c16.props -preload openie\n",
      "|- {'subject': 'Barack Obama', 'relation': 'was 44th president of', 'object': 'United States'}\n",
      "|- {'subject': 'Barack Obama', 'relation': 'was president of', 'object': 'United States'}\n",
      "|- {'subject': 'Barack Obama', 'relation': 'was', 'object': 'president'}\n",
      "|- {'subject': 'Barack Obama', 'relation': 'was', 'object': '44th president'}\n"
     ]
    }
   ],
   "source": [
    "# Example code for using StanfordOpenIE in python\n",
    "from openie import StanfordOpenIE\n",
    "\n",
    "with StanfordOpenIE() as client:\n",
    "    text = 'Barack Obama was the 44th president of the United States'\n",
    "    print('Text: %s.' % text)\n",
    "    # using the stanford open ie for using\n",
    "    for triple in client.annotate(text):\n",
    "        print('|-', triple)"
   ]
  },
  {
   "cell_type": "markdown",
   "metadata": {},
   "source": [
    "For each sentence, StanfordOpenIE will return several triples with high confidence scores. To further refine the results, we can perform filtering by some constraints:\n",
    "- The subjet and object must be named entity from some predfined types\n",
    "- The relation must be verb or verb phrases (chunk rule)\n",
    "\n",
    "Come up with your own refinement strategy to get a better result."
   ]
  },
  {
   "cell_type": "code",
   "execution_count": 3,
   "metadata": {
    "scrolled": true
   },
   "outputs": [
    {
     "name": "stdout",
     "output_type": "stream",
     "text": [
      " Barack Obama was the 44th president of the United States, and the first African American to serve in the office.\n",
      "          On October 3, 1992,  Barack Obama married  Michelle Robinson at Trinity United Church in Chicago. \n",
      "['Barack', 'Obama', 'United States', 'African American', 'Barack Obama', 'Michelle Robinson', 'Trinity United Church', 'Chicago']\n",
      "Starting server with command: java -Xmx8G -cp C:\\Users\\Lenovo\\.stanfordnlp_resources\\stanford-corenlp-4.1.0/* edu.stanford.nlp.pipeline.StanfordCoreNLPServer -port 9000 -timeout 60000 -threads 5 -maxCharLength 100000 -quiet True -serverProperties corenlp_server-56adb58ce0f3448a.props -preload openie\n",
      "Extracted Triples: [['Barack Obama', 'was 44th president of', 'United States'], ['Barack Obama', 'was president of', 'United States'], ['Trinity United Church', 'is in', 'Chicago'], ['Barack Obama', 'married', 'Michelle Robinson'], ['Barack Obama', 'married Michelle Robinson at', 'Trinity United Church']]\n"
     ]
    }
   ],
   "source": [
    "def extract_triple(text):\n",
    "    # your implementation\n",
    "    print(text)\n",
    "    \n",
    "    # obtain chunks using ne_chunk()\n",
    "    chunks = ne_chunk(pos_tag(word_tokenize(text)))\n",
    "    # store all tokens of named entities(chunks) in a python list\n",
    "#     print(chunks)\n",
    "    terms_list = []\n",
    "    for chunk in chunks:\n",
    "        if type(chunk) == Tree:\n",
    "            namelist=[]\n",
    "            # append to token to the namelist\n",
    "            for token,pos in chunk.leaves():\n",
    "                namelist.append(token)\n",
    "            name=\" \".join(namelist)\n",
    "            terms_list.append(name)\n",
    "    \n",
    "    # in order to get the right triple this time\n",
    "    # you have to if the triple['subject'] and triple['object'] in \n",
    "    # the above named entities list or not\n",
    "    print(terms_list)\n",
    "    triples = []\n",
    "    client =  StanfordOpenIE()\n",
    "    # append the part into the triples\n",
    "    for triple in client.annotate(text):\n",
    "        if (triple['subject'] in terms_list) and (triple['object'] in terms_list):\n",
    "            triples.append([triple['subject'], triple['relation'],  triple['object']])    \n",
    "    return triples\n",
    "\n",
    "\n",
    "tr = extract_triple(\"\"\" Barack Obama was the 44th president of the United States, and the first African American to serve in the office.\n",
    "          On October 3, 1992,  Barack Obama married  Michelle Robinson at Trinity United Church in Chicago. \"\"\")\n",
    "print(\"Extracted Triples:\",tr)"
   ]
  },
  {
   "cell_type": "markdown",
   "metadata": {},
   "source": [
    "### Construct the KB from Triples\n",
    "Given the knowledge triples, we need to index all the entities and relations, i.e.,get the entity set and relation set, and represent each triple using entity id and relation id."
   ]
  },
  {
   "cell_type": "code",
   "execution_count": 4,
   "metadata": {
    "scrolled": true
   },
   "outputs": [
    {
     "name": "stdout",
     "output_type": "stream",
     "text": [
      "Entities: {0: 'Chicago', 1: 'Michelle Robinson', 2: 'Barack Obama', 3: 'United States', 4: 'Trinity United Church'} \n",
      "Relations: {0: 'married', 1: 'married Michelle Robinson at', 2: 'is in', 3: 'was 44th president of', 4: 'was president of'} \n",
      "Triples: [[2, 3, 3], [2, 4, 3], [4, 2, 0], [2, 0, 1], [2, 1, 4]]\n"
     ]
    }
   ],
   "source": [
    "def KB(triples):\n",
    "    ent=[]\n",
    "    rels=[]\n",
    "    # store named entities (subject and object) of triples to one list\n",
    "    # store relation of triples to another list\n",
    "    # refer to the above sample code\n",
    "    for sub,rel,obj in triples:\n",
    "        ent.append(sub)\n",
    "        ent.append(obj)\n",
    "        rels.append(rel)\n",
    "    unent = set(ent)\n",
    "    unent_rels = set(rels)\n",
    "    \n",
    "    #create a dictionary for this unique named entities\n",
    "    # 创建index\n",
    "    ind = range(len(unent))\n",
    "    ind_rels = range(len(unent_rels))\n",
    "    \n",
    "    # create two dictionaries using zip function\n",
    "    # one for named entities:\n",
    "    # {0: 'Michelle Robinson', 1: 'United States', 2: 'Chicago', 3: 'Trinity United Church', 4: 'Barack Obama'}  \n",
    "    # refer to the above sample code\n",
    "    #生成以index为指向的字典\n",
    "    id_en = dict(zip(ind, unent))\n",
    "    \n",
    "    # another one for relation:\n",
    "    # {0: 'married', 1: 'married Michelle Robinson at', 2: 'was 44th president of', \n",
    "    # 3: 'was president of', 4: 'is in'} \n",
    "    id_re = dict(zip(ind_rels, unent_rels))\n",
    "    \n",
    "    \n",
    "    # create a 2d list for triples from\n",
    "    # [{'subject':'Barack Obama', 'relation':'was 44th president of', 'object':'United States'}, \n",
    "    # {'subject':'Barack Obama', 'relation':'was president of', 'object':'United States'},\n",
    "    # {'subject':'Trinity United Church', 'relation':'is in', 'object':'Chicago'},\n",
    "    # {'subject':'Barack Obama', 'relation':'married', 'object':'Michelle Robinson'},\n",
    "    # {'subject':'Barack Obama', 'relation':'married Michelle Robinson at', 'object':'Trinity United Church'}]\n",
    "    # to \n",
    "    # [[4, 2, 1], [4, 3, 1], [3, 4, 2], [4, 0, 0], [4, 1, 3]]\n",
    "    id_en_inv = {value: key for key, value in id_en.items()}\n",
    "    id_re_inv = {value: key for key, value in id_re.items()}\n",
    "    triples_id = []\n",
    "    for sub,rel,obj in triples:\n",
    "        one_triples=[]\n",
    "        one_triples.append(id_en_inv[sub])\n",
    "        one_triples.append(id_re_inv[rel])\n",
    "        one_triples.append(id_en_inv[obj])\n",
    "        triples_id.append(one_triples)\n",
    "    \n",
    "    #return three newly created dictionaries for entities, relations and triples\n",
    "    return id_en,id_re,triples_id\n",
    "\n",
    "kb = KB(tr)\n",
    "print(\"Entities:\", kb[0], \"\\nRelations:\",kb[1], \"\\nTriples:\",kb[2])"
   ]
  },
  {
   "cell_type": "markdown",
   "metadata": {},
   "source": [
    "### Visualize the KB using ``graphviz``\n",
    "- To render the graph, the dependency is a working installation of ``Graphviz`` (https://www.graphviz.org/download/).\n",
    "- After installing Graphviz, make sure that its ``bin/`` subdirectory containing the layout commands for rendering graph descriptions (dot, circo, neato, etc.) is on your systems’ path: On the command-line, ``dot -V`` should print the version of your Graphiz installation.\n",
    "- Refer to https://graphviz.readthedocs.io/en/stable/manual.html for the user guid of graphviz"
   ]
  },
  {
   "cell_type": "code",
   "execution_count": 5,
   "metadata": {
    "scrolled": true
   },
   "outputs": [
    {
     "name": "stdout",
     "output_type": "stream",
     "text": [
      "// KB-Demo\n",
      "digraph {\n",
      "\t0 [label=Chicago]\n",
      "\t1 [label=\"Michelle Robinson\"]\n",
      "\t2 [label=\"Barack Obama\"]\n",
      "\t3 [label=\"United States\"]\n",
      "\t4 [label=\"Trinity United Church\"]\n",
      "\t2 -> 3 [label=\"was 44th president of\"]\n",
      "\t2 -> 3 [label=\"was president of\"]\n",
      "\t4 -> 0 [label=\"is in\"]\n",
      "\t2 -> 1 [label=married]\n",
      "\t2 -> 4 [label=\"married Michelle Robinson at\"]\n",
      "}\n",
      "\n"
     ]
    }
   ],
   "source": [
    "def visualizeKB(kb_input):\n",
    "    dot = Digraph(comment='KB-Demo')    \n",
    "    \n",
    "    #kb_input[0] is entity dict\n",
    "    #kb_input[1] is the relation dict\n",
    "    #kb_input[2] is the triple dict\n",
    "    \n",
    "    # please read graphviz doc on how to create a graph based on the kb info we have\n",
    "    # before you start do this, please frist go through \n",
    "    #  https://graphviz.readthedocs.io/en/stable/manual.html\n",
    "    # \n",
    "    #\n",
    "    for key, value in kb_input[0].items():\n",
    "        dot.node(str(key),str(value))\n",
    "    for i in kb_input[2]:\n",
    "        dot.edge(str(i[0]), str(i[2]), label=str(kb_input[1][i[1]]))\n",
    "        \n",
    "    return dot\n",
    "dot = visualizeKB(kb)\n",
    "print(dot.source)"
   ]
  },
  {
   "cell_type": "code",
   "execution_count": 6,
   "metadata": {},
   "outputs": [
    {
     "data": {
      "image/svg+xml": [
       "<?xml version=\"1.0\" encoding=\"UTF-8\" standalone=\"no\"?>\n",
       "<!DOCTYPE svg PUBLIC \"-//W3C//DTD SVG 1.1//EN\"\n",
       " \"http://www.w3.org/Graphics/SVG/1.1/DTD/svg11.dtd\">\n",
       "<!-- Generated by graphviz version 2.47.3 (20210619.1520)\n",
       " -->\n",
       "<!-- Pages: 1 -->\n",
       "<svg width=\"557pt\" height=\"218pt\"\n",
       " viewBox=\"0.00 0.00 557.29 218.00\" xmlns=\"http://www.w3.org/2000/svg\" xmlns:xlink=\"http://www.w3.org/1999/xlink\">\n",
       "<g id=\"graph0\" class=\"graph\" transform=\"scale(1 1) rotate(0) translate(4 214)\">\n",
       "<polygon fill=\"white\" stroke=\"transparent\" points=\"-4,4 -4,-214 553.29,-214 553.29,4 -4,4\"/>\n",
       "<!-- 0 -->\n",
       "<g id=\"node1\" class=\"node\">\n",
       "<title>0</title>\n",
       "<ellipse fill=\"none\" stroke=\"black\" cx=\"405.29\" cy=\"-18\" rx=\"40.89\" ry=\"18\"/>\n",
       "<text text-anchor=\"middle\" x=\"405.29\" y=\"-14.3\" font-family=\"Times New Roman,serif\" font-size=\"14.00\">Chicago</text>\n",
       "</g>\n",
       "<!-- 1 -->\n",
       "<g id=\"node2\" class=\"node\">\n",
       "<title>1</title>\n",
       "<ellipse fill=\"none\" stroke=\"black\" cx=\"79.29\" cy=\"-105\" rx=\"79.09\" ry=\"18\"/>\n",
       "<text text-anchor=\"middle\" x=\"79.29\" y=\"-101.3\" font-family=\"Times New Roman,serif\" font-size=\"14.00\">Michelle Robinson</text>\n",
       "</g>\n",
       "<!-- 2 -->\n",
       "<g id=\"node3\" class=\"node\">\n",
       "<title>2</title>\n",
       "<ellipse fill=\"none\" stroke=\"black\" cx=\"217.29\" cy=\"-192\" rx=\"64.99\" ry=\"18\"/>\n",
       "<text text-anchor=\"middle\" x=\"217.29\" y=\"-188.3\" font-family=\"Times New Roman,serif\" font-size=\"14.00\">Barack Obama</text>\n",
       "</g>\n",
       "<!-- 2&#45;&gt;1 -->\n",
       "<g id=\"edge4\" class=\"edge\">\n",
       "<title>2&#45;&gt;1</title>\n",
       "<path fill=\"none\" stroke=\"black\" d=\"M157.06,-185.18C135.57,-180.34 112.66,-171.63 96.29,-156 89.98,-149.97 86.01,-141.5 83.51,-133.25\"/>\n",
       "<polygon fill=\"black\" stroke=\"black\" points=\"86.9,-132.36 81.14,-123.46 80.09,-134.01 86.9,-132.36\"/>\n",
       "<text text-anchor=\"middle\" x=\"117.79\" y=\"-144.8\" font-family=\"Times New Roman,serif\" font-size=\"14.00\">married</text>\n",
       "</g>\n",
       "<!-- 3 -->\n",
       "<g id=\"node4\" class=\"node\">\n",
       "<title>3</title>\n",
       "<ellipse fill=\"none\" stroke=\"black\" cx=\"237.29\" cy=\"-105\" rx=\"59.29\" ry=\"18\"/>\n",
       "<text text-anchor=\"middle\" x=\"237.29\" y=\"-101.3\" font-family=\"Times New Roman,serif\" font-size=\"14.00\">United States</text>\n",
       "</g>\n",
       "<!-- 2&#45;&gt;3 -->\n",
       "<g id=\"edge1\" class=\"edge\">\n",
       "<title>2&#45;&gt;3</title>\n",
       "<path fill=\"none\" stroke=\"black\" d=\"M174.56,-178.33C153.68,-169.8 135.2,-157.16 146.29,-141 151.31,-133.7 167.42,-126.52 184.73,-120.58\"/>\n",
       "<polygon fill=\"black\" stroke=\"black\" points=\"185.98,-123.86 194.4,-117.42 183.81,-117.2 185.98,-123.86\"/>\n",
       "<text text-anchor=\"middle\" x=\"206.79\" y=\"-144.8\" font-family=\"Times New Roman,serif\" font-size=\"14.00\">was 44th president of</text>\n",
       "</g>\n",
       "<!-- 2&#45;&gt;3 -->\n",
       "<g id=\"edge2\" class=\"edge\">\n",
       "<title>2&#45;&gt;3</title>\n",
       "<path fill=\"none\" stroke=\"black\" d=\"M248.33,-176.07C255.9,-170.84 263.04,-164.18 267.29,-156 271.73,-147.47 268.75,-138.39 263.24,-130.33\"/>\n",
       "<polygon fill=\"black\" stroke=\"black\" points=\"265.8,-127.94 256.78,-122.38 260.37,-132.35 265.8,-127.94\"/>\n",
       "<text text-anchor=\"middle\" x=\"316.79\" y=\"-144.8\" font-family=\"Times New Roman,serif\" font-size=\"14.00\">was president of</text>\n",
       "</g>\n",
       "<!-- 4 -->\n",
       "<g id=\"node5\" class=\"node\">\n",
       "<title>4</title>\n",
       "<ellipse fill=\"none\" stroke=\"black\" cx=\"405.29\" cy=\"-105\" rx=\"90.18\" ry=\"18\"/>\n",
       "<text text-anchor=\"middle\" x=\"405.29\" y=\"-101.3\" font-family=\"Times New Roman,serif\" font-size=\"14.00\">Trinity United Church</text>\n",
       "</g>\n",
       "<!-- 2&#45;&gt;4 -->\n",
       "<g id=\"edge5\" class=\"edge\">\n",
       "<title>2&#45;&gt;4</title>\n",
       "<path fill=\"none\" stroke=\"black\" d=\"M279.09,-186.24C307.74,-181.72 341.15,-172.94 367.29,-156 376.63,-149.95 384.55,-140.78 390.71,-131.95\"/>\n",
       "<polygon fill=\"black\" stroke=\"black\" points=\"393.79,-133.64 396.27,-123.34 387.91,-129.84 393.79,-133.64\"/>\n",
       "<text text-anchor=\"middle\" x=\"466.79\" y=\"-144.8\" font-family=\"Times New Roman,serif\" font-size=\"14.00\">married Michelle Robinson at</text>\n",
       "</g>\n",
       "<!-- 4&#45;&gt;0 -->\n",
       "<g id=\"edge3\" class=\"edge\">\n",
       "<title>4&#45;&gt;0</title>\n",
       "<path fill=\"none\" stroke=\"black\" d=\"M405.29,-86.8C405.29,-75.16 405.29,-59.55 405.29,-46.24\"/>\n",
       "<polygon fill=\"black\" stroke=\"black\" points=\"408.79,-46.18 405.29,-36.18 401.79,-46.18 408.79,-46.18\"/>\n",
       "<text text-anchor=\"middle\" x=\"416.79\" y=\"-57.8\" font-family=\"Times New Roman,serif\" font-size=\"14.00\">is in</text>\n",
       "</g>\n",
       "</g>\n",
       "</svg>\n"
      ],
      "text/plain": [
       "<graphviz.graphs.Digraph at 0x2ae5f119c40>"
      ]
     },
     "execution_count": 6,
     "metadata": {},
     "output_type": "execute_result"
    }
   ],
   "source": [
    "dot.render('kb-demo', view=True) \n",
    "dot"
   ]
  },
  {
   "cell_type": "code",
   "execution_count": null,
   "metadata": {},
   "outputs": [],
   "source": []
  }
 ],
 "metadata": {
  "kernelspec": {
   "display_name": "Python 3",
   "language": "python",
   "name": "python3"
  },
  "language_info": {
   "codemirror_mode": {
    "name": "ipython",
    "version": 3
   },
   "file_extension": ".py",
   "mimetype": "text/x-python",
   "name": "python",
   "nbconvert_exporter": "python",
   "pygments_lexer": "ipython3",
   "version": "3.8.8"
  }
 },
 "nbformat": 4,
 "nbformat_minor": 2
}
