{
 "cells": [
  {
   "cell_type": "markdown",
   "metadata": {},
   "source": [
    "# Import some packages\n",
    "\n",
    "You should load packages you may need in this project first"
   ]
  },
  {
   "cell_type": "code",
   "execution_count": 1,
   "metadata": {
    "scrolled": true
   },
   "outputs": [],
   "source": [
    "import skimage.io as io\n",
    "import skimage.color\n",
    "import skimage.transform\n",
    "import matplotlib.pyplot as plt\n",
    "%matplotlib inline\n",
    "\n",
    "import numpy as np\n",
    "import os\n",
    "import random\n",
    "\n",
    "import keras\n",
    "from keras.datasets import mnist\n",
    "from keras.models import Sequential\n",
    "from keras.layers import Dense, Dropout, Flatten\n",
    "from keras.layers import Conv2D, MaxPooling2D, AveragePooling2D\n",
    "from keras import backend as K\n",
    "from keras.utils import np_utils"
   ]
  },
  {
   "cell_type": "markdown",
   "metadata": {},
   "source": [
    "# Load character data from the dataset subfolder\n"
   ]
  },
  {
   "cell_type": "code",
   "execution_count": 2,
   "metadata": {
    "scrolled": false
   },
   "outputs": [
    {
     "name": "stdout",
     "output_type": "stream",
     "text": [
      "['0', '1', '2', '3', '4', '5', '6', '7', '8', '9', 'A', 'B', 'C', 'D', 'E', 'F', 'G', 'H', 'J', 'K', 'L', 'M', 'N', 'P', 'Q', 'R', 'S', 'T', 'U', 'V', 'W', 'X', 'Y', 'Z', '云', '京', '冀', '吉', '宁', '川', '新', '晋', '桂', '沪', '津', '浙', '渝', '湘', '琼', '甘', '皖', '粤', '苏', '蒙', '藏', '豫', '贵', '赣', '辽', '鄂', '闽', '陕', '青', '鲁', '黑']\n"
     ]
    }
   ],
   "source": [
    "# provide your code here\n",
    "DATASET_DIR = \"./dataset/\"\n",
    "classes = os.listdir(DATASET_DIR)\n",
    "print(classes)\n",
    "data = []\n",
    "for cls in classes:\n",
    "    files = os.listdir(DATASET_DIR + cls)\n",
    "    for f in files:\n",
    "        img_path = DATASET_DIR + cls + \"/\" + f\n",
    "#         display(img_path)\n",
    "#         break\n",
    "        img = skimage.io.imread(img_path, as_gray=True)\n",
    "        \n",
    "#         display(img.shape)\n",
    "        \n",
    "        # change the picture to the gray scale\n",
    "#         img = skimage.color.rgb2gray(img)\n",
    "        \n",
    "        data.append({\n",
    "            'x': img,\n",
    "            'y': cls\n",
    "        })\n",
    "        \n",
    "random.shuffle(data) \n"
   ]
  },
  {
   "cell_type": "code",
   "execution_count": 3,
   "metadata": {},
   "outputs": [
    {
     "data": {
      "text/plain": [
       "(20, 20)"
      ]
     },
     "metadata": {},
     "output_type": "display_data"
    },
    {
     "data": {
      "image/png": "[encoded data removed]",
      "text/plain": [
       "<Figure size 432x288 with 1 Axes>"
      ]
     },
     "metadata": {
      "needs_background": "light"
     },
     "output_type": "display_data"
    }
   ],
   "source": [
    "# display the image after reading\n",
    "# display(img)\n",
    "display(img.shape)\n",
    "io.imshow(img);"
   ]
  },
  {
   "cell_type": "markdown",
   "metadata": {},
   "source": [
    "# create train data set and test data set \n",
    "Using 80/20 rule, 80 precent for trainning, and 20 percent for testing."
   ]
  },
  {
   "cell_type": "code",
   "execution_count": 5,
   "metadata": {},
   "outputs": [],
   "source": [
    "def getRandomIndex(n, x):\n",
    "    # the index is from 0 to n, not included n, and the index is not replace\n",
    "    index = np.random.choice(np.arange(n), size=x, replace=False)\n",
    "    return index"
   ]
  },
  {
   "cell_type": "code",
   "execution_count": 6,
   "metadata": {},
   "outputs": [],
   "source": [
    "X = [d['x'] for d in data]\n",
    "y = [d['y'] for d in data]\n",
    "\n",
    "ys = list(np.unique(y))\n",
    "y = [ys.index(v) for v in y]\n",
    "\n",
    "# generate random index\n",
    "train_index = getRandomIndex(len(X),int(len(X)*0.8))\n",
    "test_index = np.delete(np.arange(len(X)), train_index)\n",
    "\n",
    "x_train = [X[i] for i in train_index.tolist()]\n",
    "y_train = [y[i] for i in train_index.tolist()]\n",
    "\n",
    "x_test = [X[i] for i in test_index.tolist()]\n",
    "y_test = [y[i] for i in test_index.tolist()]\n"
   ]
  },
  {
   "cell_type": "markdown",
   "metadata": {},
   "source": [
    "# Examming and Understand data set for trainning\n"
   ]
  },
  {
   "cell_type": "code",
   "execution_count": 7,
   "metadata": {},
   "outputs": [
    {
     "name": "stdout",
     "output_type": "stream",
     "text": [
      "12920\n"
     ]
    }
   ],
   "source": [
    "# you may print out some infomation about train data set \n",
    "# print(x_train[0])\n",
    "# print(y_train)\n",
    "print(len(y_train))"
   ]
  },
  {
   "cell_type": "markdown",
   "metadata": {},
   "source": [
    "# Decide a few parameters for trainning\n",
    "\n",
    "such as batch size, epochs, image size in rows and colomns, etc."
   ]
  },
  {
   "cell_type": "code",
   "execution_count": 8,
   "metadata": {},
   "outputs": [],
   "source": [
    "# you decide those parameters below\n",
    "\n",
    "# after the batch_size input, the weight will be updated\n",
    "batch_size = 128\n",
    "num_classes = len(ys)\n",
    "epochs =  25\n",
    "\n",
    "## input image dimensions\n",
    "img_rows, img_cols = x_train[0].shape\n",
    "label_type_num = len(ys)"
   ]
  },
  {
   "cell_type": "code",
   "execution_count": 9,
   "metadata": {},
   "outputs": [
    {
     "data": {
      "text/plain": [
       "12920"
      ]
     },
     "metadata": {},
     "output_type": "display_data"
    }
   ],
   "source": [
    "#Extend the data chennels to 4 dimemsions\n",
    "display(len(x_train))"
   ]
  },
  {
   "cell_type": "code",
   "execution_count": 10,
   "metadata": {},
   "outputs": [],
   "source": [
    "def extend_channel(data):\n",
    "    if K.image_data_format() == 'channels_first':\n",
    "        data = data.reshape(data.shape[0], 1, img_rows, img_cols)\n",
    "    else:\n",
    "        data = data.reshape(data.shape[0], img_rows, img_cols, 1)\n",
    "        \n",
    "    return data\n",
    "\n",
    "x_train = extend_channel(np.array(x_train))\n",
    "x_test = extend_channel(np.array(x_test))"
   ]
  },
  {
   "cell_type": "markdown",
   "metadata": {},
   "source": [
    "# Data normalization"
   ]
  },
  {
   "cell_type": "code",
   "execution_count": 11,
   "metadata": {},
   "outputs": [],
   "source": [
    "x_train = x_train.astype('float32')\n",
    "x_test = x_test.astype('float32')\n",
    "x_train /= 255\n",
    "x_test /= 255\n",
    "\n",
    "#TODO\n",
    "y_train = np_utils.to_categorical(y_train)\n",
    "y_test = np_utils.to_categorical(y_test)"
   ]
  },
  {
   "cell_type": "code",
   "execution_count": 30,
   "metadata": {},
   "outputs": [
    {
     "data": {
      "text/plain": [
       "(12920, 20, 20, 1)"
      ]
     },
     "metadata": {},
     "output_type": "display_data"
    },
    {
     "data": {
      "text/plain": [
       "(12920, 65)"
      ]
     },
     "metadata": {},
     "output_type": "display_data"
    },
    {
     "data": {
      "text/plain": [
       "(20, 20, 1)"
      ]
     },
     "metadata": {},
     "output_type": "display_data"
    },
    {
     "data": {
      "text/plain": [
       "(3231, 20, 20, 1)"
      ]
     },
     "metadata": {},
     "output_type": "display_data"
    },
    {
     "data": {
      "text/plain": [
       "(3231, 65)"
      ]
     },
     "metadata": {},
     "output_type": "display_data"
    }
   ],
   "source": [
    "input_shape = x_train.shape[1:]\n",
    "display(x_train.shape)\n",
    "display(y_train.shape)\n",
    "display(input_shape)\n",
    "display(x_test.shape)\n",
    "display(y_test.shape)"
   ]
  },
  {
   "cell_type": "code",
   "execution_count": 29,
   "metadata": {},
   "outputs": [
    {
     "data": {
      "text/plain": [
       "array([[0., 0., 0., ..., 0., 0., 0.],\n",
       "       [0., 0., 0., ..., 0., 0., 0.],\n",
       "       [0., 0., 0., ..., 0., 0., 0.],\n",
       "       ...,\n",
       "       [0., 0., 0., ..., 0., 0., 0.],\n",
       "       [0., 0., 0., ..., 0., 0., 0.],\n",
       "       [0., 0., 0., ..., 0., 0., 0.]], dtype=float32)"
      ]
     },
     "execution_count": 29,
     "metadata": {},
     "output_type": "execute_result"
    }
   ],
   "source": [
    "y_test"
   ]
  },
  {
   "cell_type": "markdown",
   "metadata": {},
   "source": [
    "# Create a CNN model for character recognition\n",
    "\n",
    "This is an important part of this project. You have to create a cnn model using tensorflow and keras to train the data.\n"
   ]
  },
  {
   "cell_type": "code",
   "execution_count": 27,
   "metadata": {},
   "outputs": [],
   "source": [
    "#You can refer to the LeNet on the project 4\n",
    "# or use the same sample model in carplate_recognition.ipynb\n",
    "import tensorflow as tf\n",
    "\n",
    "# make a new model for sequential\n",
    "model = Sequential()\n",
    "\n",
    "# Layer 1: Convolutional.\n",
    "model.add(Conv2D(filters = 32, kernel_size = (3, 3),\n",
    "                 activation='relu',\n",
    "                 input_shape=input_shape))\n",
    "# # Pooling\n",
    "# model.add(MaxPooling2D(pool_size=(2, 2)))\n",
    "\n",
    "# Layer 2: Convolutional.\n",
    "model.add(Conv2D(filters = 64, kernel_size = (3, 3), activation='relu'))\n",
    "\n",
    "# Pooling\n",
    "model.add(MaxPooling2D(pool_size=(2, 2)))\n",
    "\n",
    "# Dropout\n",
    "model.add(Dropout(0.25))\n",
    "\n",
    "# Flattem for fully connected\n",
    "model.add(Flatten())\n",
    "\n",
    "# Layer 3: Fully Connected\n",
    "model.add(Dense(128, activation='relu'))\n",
    "\n",
    "# Dropout\n",
    "model.add(Dropout(0.2))\n",
    "\n",
    "# Layer 4: Fully Connected\n",
    "model.add(Dense(label_type_num, activation='softmax'))"
   ]
  },
  {
   "cell_type": "code",
   "execution_count": 14,
   "metadata": {},
   "outputs": [],
   "source": [
    "# model = Sequential()\n",
    "# model.call = tf.function(model.call)\n",
    "# model.add(Conv2D(32, kernel_size=(3, 3),\n",
    "#                  activation='relu',\n",
    "#                  input_shape=input_shape))\n",
    "# model.add(Conv2D(64, (3, 3), activation='relu'))\n",
    "# model.add(MaxPooling2D(pool_size=(2, 2)))\n",
    "# model.add(Dropout(0.25))\n",
    "# model.add(Flatten())\n",
    "# model.add(Dense(128, activation='relu'))\n",
    "# model.add(Dropout(0.2))\n",
    "# model.add(Dense(num_classes, activation='softmax'))"
   ]
  },
  {
   "cell_type": "markdown",
   "metadata": {},
   "source": [
    "# Compile the model"
   ]
  },
  {
   "cell_type": "code",
   "execution_count": 15,
   "metadata": {},
   "outputs": [
    {
     "name": "stdout",
     "output_type": "stream",
     "text": [
      "Model: \"sequential\"\n",
      "_________________________________________________________________\n",
      " Layer (type)                Output Shape              Param #   \n",
      "=================================================================\n",
      " conv2d (Conv2D)             (None, 18, 18, 32)        320       \n",
      "                                                                 \n",
      " conv2d_1 (Conv2D)           (None, 16, 16, 64)        18496     \n",
      "                                                                 \n",
      " max_pooling2d (MaxPooling2D  (None, 8, 8, 64)         0         \n",
      " )                                                               \n",
      "                                                                 \n",
      " dropout (Dropout)           (None, 8, 8, 64)          0         \n",
      "                                                                 \n",
      " flatten (Flatten)           (None, 4096)              0         \n",
      "                                                                 \n",
      " dense (Dense)               (None, 128)               524416    \n",
      "                                                                 \n",
      " dropout_1 (Dropout)         (None, 128)               0         \n",
      "                                                                 \n",
      " dense_1 (Dense)             (None, 65)                8385      \n",
      "                                                                 \n",
      "=================================================================\n",
      "Total params: 551,617\n",
      "Trainable params: 551,617\n",
      "Non-trainable params: 0\n",
      "_________________________________________________________________\n"
     ]
    }
   ],
   "source": [
    "model.compile(loss=keras.losses.categorical_crossentropy,\n",
    "              optimizer=tf.keras.optimizers.Adam(),\n",
    "              metrics=['accuracy'])\n",
    "model.summary()"
   ]
  },
  {
   "cell_type": "code",
   "execution_count": 16,
   "metadata": {
    "scrolled": true
   },
   "outputs": [
    {
     "data": {
      "text/plain": [
       "(12920, 20, 20, 1)"
      ]
     },
     "metadata": {},
     "output_type": "display_data"
    },
    {
     "data": {
      "text/plain": [
       "(12920, 65)"
      ]
     },
     "metadata": {},
     "output_type": "display_data"
    },
    {
     "data": {
      "text/plain": [
       "(3231, 20, 20, 1)"
      ]
     },
     "metadata": {},
     "output_type": "display_data"
    },
    {
     "data": {
      "text/plain": [
       "(3231, 65)"
      ]
     },
     "metadata": {},
     "output_type": "display_data"
    }
   ],
   "source": [
    "display(x_train.shape)\n",
    "display(y_train.shape)\n",
    "display(x_test.shape)\n",
    "display(y_test.shape)"
   ]
  },
  {
   "cell_type": "markdown",
   "metadata": {},
   "source": [
    "# Train your model\n"
   ]
  },
  {
   "cell_type": "code",
   "execution_count": 18,
   "metadata": {},
   "outputs": [
    {
     "name": "stdout",
     "output_type": "stream",
     "text": [
      "Epoch 1/25\n",
      "82/82 [==============================] - 9s 101ms/step - loss: 1.6141 - accuracy: 0.6368 - val_loss: 0.3590 - val_accuracy: 0.9129\n",
      "Epoch 2/25\n",
      "82/82 [==============================] - 10s 128ms/step - loss: 0.3357 - accuracy: 0.9191 - val_loss: 0.1787 - val_accuracy: 0.9594\n",
      "Epoch 3/25\n",
      "82/82 [==============================] - 9s 112ms/step - loss: 0.2036 - accuracy: 0.9516 - val_loss: 0.1593 - val_accuracy: 0.9667\n",
      "Epoch 4/25\n",
      "82/82 [==============================] - 9s 114ms/step - loss: 0.1405 - accuracy: 0.9643 - val_loss: 0.1254 - val_accuracy: 0.9733\n",
      "Epoch 5/25\n",
      "82/82 [==============================] - 9s 109ms/step - loss: 0.1072 - accuracy: 0.9725 - val_loss: 0.1205 - val_accuracy: 0.9760\n",
      "Epoch 6/25\n",
      "82/82 [==============================] - 9s 106ms/step - loss: 0.0848 - accuracy: 0.9767 - val_loss: 0.1149 - val_accuracy: 0.9748\n",
      "Epoch 7/25\n",
      "82/82 [==============================] - 8s 101ms/step - loss: 0.0705 - accuracy: 0.9800 - val_loss: 0.1151 - val_accuracy: 0.9760\n",
      "Epoch 8/25\n",
      "82/82 [==============================] - 9s 109ms/step - loss: 0.0596 - accuracy: 0.9835 - val_loss: 0.1110 - val_accuracy: 0.9783\n",
      "Epoch 9/25\n",
      "82/82 [==============================] - 10s 120ms/step - loss: 0.0546 - accuracy: 0.9845 - val_loss: 0.1212 - val_accuracy: 0.9756\n",
      "Epoch 10/25\n",
      "82/82 [==============================] - 11s 141ms/step - loss: 0.0531 - accuracy: 0.9861 - val_loss: 0.1252 - val_accuracy: 0.9764\n",
      "Epoch 11/25\n",
      "82/82 [==============================] - 10s 119ms/step - loss: 0.0467 - accuracy: 0.9864 - val_loss: 0.1122 - val_accuracy: 0.9776\n",
      "Epoch 12/25\n",
      "82/82 [==============================] - 9s 104ms/step - loss: 0.0437 - accuracy: 0.9872 - val_loss: 0.1211 - val_accuracy: 0.9764\n",
      "Epoch 13/25\n",
      "82/82 [==============================] - 9s 107ms/step - loss: 0.0418 - accuracy: 0.9881 - val_loss: 0.1143 - val_accuracy: 0.9776\n",
      "Epoch 14/25\n",
      "82/82 [==============================] - 9s 104ms/step - loss: 0.0452 - accuracy: 0.9875 - val_loss: 0.1082 - val_accuracy: 0.9787\n",
      "Epoch 15/25\n",
      "82/82 [==============================] - 10s 119ms/step - loss: 0.0361 - accuracy: 0.9896 - val_loss: 0.1173 - val_accuracy: 0.9783\n",
      "Epoch 16/25\n",
      "82/82 [==============================] - 8s 103ms/step - loss: 0.0372 - accuracy: 0.9890 - val_loss: 0.1083 - val_accuracy: 0.9799\n",
      "Epoch 17/25\n",
      "82/82 [==============================] - 8s 98ms/step - loss: 0.0350 - accuracy: 0.9903 - val_loss: 0.1243 - val_accuracy: 0.9779\n",
      "Epoch 18/25\n",
      "82/82 [==============================] - 8s 96ms/step - loss: 0.0386 - accuracy: 0.9885 - val_loss: 0.1160 - val_accuracy: 0.9783\n",
      "Epoch 19/25\n",
      "82/82 [==============================] - 8s 96ms/step - loss: 0.0307 - accuracy: 0.9920 - val_loss: 0.1278 - val_accuracy: 0.9764\n",
      "Epoch 20/25\n",
      "82/82 [==============================] - 8s 97ms/step - loss: 0.0371 - accuracy: 0.9892 - val_loss: 0.1190 - val_accuracy: 0.9764\n",
      "Epoch 21/25\n",
      "82/82 [==============================] - 8s 96ms/step - loss: 0.0325 - accuracy: 0.9897 - val_loss: 0.1200 - val_accuracy: 0.9783\n",
      "Epoch 22/25\n",
      "82/82 [==============================] - 8s 97ms/step - loss: 0.0345 - accuracy: 0.9900 - val_loss: 0.1122 - val_accuracy: 0.9791\n",
      "Epoch 23/25\n",
      "82/82 [==============================] - 8s 97ms/step - loss: 0.0313 - accuracy: 0.9910 - val_loss: 0.1119 - val_accuracy: 0.9799\n",
      "Epoch 24/25\n",
      "82/82 [==============================] - 8s 97ms/step - loss: 0.0331 - accuracy: 0.9897 - val_loss: 0.1174 - val_accuracy: 0.9803\n",
      "Epoch 25/25\n",
      "82/82 [==============================] - 8s 100ms/step - loss: 0.0306 - accuracy: 0.9912 - val_loss: 0.1149 - val_accuracy: 0.9783\n",
      "101/101 [==============================] - 1s 8ms/step - loss: 0.0773 - accuracy: 0.9830\n",
      "Loss: 0.07728289812803268\n",
      "Acc: 0.9829773902893066\n"
     ]
    }
   ],
   "source": [
    "# intitial test\n",
    "batch_size = 128\n",
    "epochs =  25\n",
    "\n",
    "if_load = False\n",
    "if(if_load):\n",
    "    model.load_weights(\"char_cnn.h5\")\n",
    "\n",
    "model_test = model.fit(x_train, y_train, batch_size=batch_size, epochs=epochs,validation_freq=1, validation_split=0.2)\n",
    "score = model.evaluate(x_test, y_test)\n",
    "print(\"Loss:\",score[0])\n",
    "print(\"Acc:\", score[1])"
   ]
  },
  {
   "cell_type": "markdown",
   "metadata": {},
   "source": [
    "# Visualize training results"
   ]
  },
  {
   "cell_type": "code",
   "execution_count": 19,
   "metadata": {},
   "outputs": [],
   "source": [
    "epochs_range = range(epochs)\n",
    "acc = model_test.history['accuracy']\n",
    "val_acc = model_test.history['val_accuracy']\n",
    "loss = model_test.history['loss']\n",
    "val_loss = model_test.history['val_loss']"
   ]
  },
  {
   "cell_type": "code",
   "execution_count": 20,
   "metadata": {},
   "outputs": [
    {
     "data": {
      "image/png": "[encoded data removed]",
      "text/plain": [
       "<Figure size 576x576 with 2 Axes>"
      ]
     },
     "metadata": {
      "needs_background": "light"
     },
     "output_type": "display_data"
    }
   ],
   "source": [
    "plt.figure(figsize=(8, 8))\n",
    "plt.subplot(1, 2, 1)\n",
    "plt.plot(epochs_range, acc, label='Training Accuracy')\n",
    "plt.plot(epochs_range, val_acc, label='Validation Accuracy')\n",
    "plt.legend(loc='lower right')\n",
    "plt.title('Training and Validation Accuracy')\n",
    "\n",
    "plt.subplot(1, 2, 2)\n",
    "plt.plot(epochs_range, loss, label='Training Loss')\n",
    "plt.plot(epochs_range, val_loss, label='Validation Loss')\n",
    "plt.legend(loc='upper right')\n",
    "plt.title('Training and Validation Loss')\n",
    "plt.show()"
   ]
  },
  {
   "cell_type": "markdown",
   "metadata": {},
   "source": [
    "# Model Evaluation \n",
    "\n",
    "Evaluate your model with test dataset.\n",
    "\n",
    "make sure your model accuracy should be more than 97 percent. Otherwise, you have to go back to fine tune your model with whatever methods you have learned to improve its accuracy. You have to handle over-fitting or under-fitting problem you may encounter."
   ]
  },
  {
   "cell_type": "code",
   "execution_count": 21,
   "metadata": {
    "scrolled": false
   },
   "outputs": [
    {
     "name": "stdout",
     "output_type": "stream",
     "text": [
      "101/101 [==============================] - 1s 8ms/step - loss: 0.0773 - accuracy: 0.9830\n",
      "Test loss: 0.07728289812803268\n",
      "Test accuracy: 0.9829773902893066\n"
     ]
    }
   ],
   "source": [
    "score = model.evaluate(x_test, y_test)\n",
    "print('Test loss:', score[0])\n",
    "print('Test accuracy:', score[1])"
   ]
  },
  {
   "cell_type": "markdown",
   "metadata": {},
   "source": [
    "# Save your model weights\n",
    "\n",
    "You should save your model for car plate recognition purpose later.\n"
   ]
  },
  {
   "cell_type": "code",
   "execution_count": 23,
   "metadata": {},
   "outputs": [],
   "source": [
    "# when you finish training, you should save your model in a file\n",
    "# for carplate_recognition.ipynb\n",
    "# since it will use this model to recognize car plates \n",
    "model.save_weights('char_cnn_get.h5')"
   ]
  },
  {
   "cell_type": "code",
   "execution_count": null,
   "metadata": {},
   "outputs": [],
   "source": []
  }
 ],
 "metadata": {
  "kernelspec": {
   "display_name": "Python 3",
   "language": "python",
   "name": "python3"
  },
  "language_info": {
   "codemirror_mode": {
    "name": "ipython",
    "version": 3
   },
   "file_extension": ".py",
   "mimetype": "text/x-python",
   "name": "python",
   "nbconvert_exporter": "python",
   "pygments_lexer": "ipython3",
   "version": "3.8.8"
  }
 },
 "nbformat": 4,
 "nbformat_minor": 2
}
