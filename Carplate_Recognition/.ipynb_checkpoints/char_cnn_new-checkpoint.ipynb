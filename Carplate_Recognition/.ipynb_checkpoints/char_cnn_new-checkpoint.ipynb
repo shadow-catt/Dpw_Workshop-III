{
 "cells": [
  {
   "cell_type": "markdown",
   "metadata": {},
   "source": [
    "# Import some packages\n",
    "\n",
    "You should load packages you may need in this project first"
   ]
  },
  {
   "cell_type": "code",
   "execution_count": 1,
   "metadata": {
    "scrolled": true
   },
   "outputs": [],
   "source": [
    "import skimage.io as io\n",
    "import skimage.color\n",
    "import skimage.transform\n",
    "import matplotlib.pyplot as plt\n",
    "%matplotlib inline\n",
    "\n",
    "import numpy as np\n",
    "import os\n",
    "import random\n",
    "\n",
    "import keras\n",
    "from keras.datasets import mnist\n",
    "from keras.models import Sequential\n",
    "from keras.layers import Dense, Dropout, Flatten\n",
    "from keras.layers import Conv2D, MaxPooling2D, AveragePooling2D\n",
    "from keras import backend as K\n",
    "from keras.utils import np_utils"
   ]
  },
  {
   "cell_type": "markdown",
   "metadata": {},
   "source": [
    "# Load character data from the dataset subfolder\n"
   ]
  },
  {
   "cell_type": "code",
   "execution_count": 2,
   "metadata": {
    "scrolled": false
   },
   "outputs": [
    {
     "name": "stdout",
     "output_type": "stream",
     "text": [
      "['0', '1', '2', '3', '4', '5', '6', '7', '8', '9', 'A', 'B', 'C', 'D', 'E', 'F', 'G', 'H', 'J', 'K', 'L', 'M', 'N', 'P', 'Q', 'R', 'S', 'T', 'U', 'V', 'W', 'X', 'Y', 'Z', '云', '京', '冀', '吉', '宁', '川', '新', '晋', '桂', '沪', '津', '浙', '渝', '湘', '琼', '甘', '皖', '粤', '苏', '蒙', '藏', '豫', '贵', '赣', '辽', '鄂', '闽', '陕', '青', '鲁', '黑']\n"
     ]
    }
   ],
   "source": [
    "# provide your code here\n",
    "DATASET_DIR = \"./dataset/\"\n",
    "classes = os.listdir(DATASET_DIR)\n",
    "print(classes)\n",
    "data = []\n",
    "for cls in classes:\n",
    "    files = os.listdir(DATASET_DIR + cls)\n",
    "    for f in files:\n",
    "        img_path = DATASET_DIR + cls + \"/\" + f\n",
    "#         display(img_path)\n",
    "#         break\n",
    "        img = skimage.io.imread(img_path, as_gray=True)\n",
    "        \n",
    "#         display(img.shape)\n",
    "        \n",
    "        # change the picture to the gray scale\n",
    "#         img = skimage.color.rgb2gray(img)\n",
    "        \n",
    "        data.append({\n",
    "            'x': img,\n",
    "            'y': cls\n",
    "        })\n",
    "        \n",
    "random.shuffle(data) \n"
   ]
  },
  {
   "cell_type": "code",
   "execution_count": 3,
   "metadata": {},
   "outputs": [
    {
     "data": {
      "text/plain": [
       "(20, 20)"
      ]
     },
     "metadata": {},
     "output_type": "display_data"
    },
    {
     "data": {
      "image/png": "[encoded data removed]",
      "text/plain": [
       "<Figure size 432x288 with 1 Axes>"
      ]
     },
     "metadata": {
      "needs_background": "light"
     },
     "output_type": "display_data"
    }
   ],
   "source": [
    "# display the image after reading\n",
    "# display(img)\n",
    "display(img.shape)\n",
    "io.imshow(img);"
   ]
  },
  {
   "cell_type": "markdown",
   "metadata": {},
   "source": [
    "# create train data set and test data set \n",
    "Using 80/20 rule, 80 precent for trainning, and 20 percent for testing."
   ]
  },
  {
   "cell_type": "code",
   "execution_count": 4,
   "metadata": {
    "scrolled": true
   },
   "outputs": [
    {
     "data": {
      "text/plain": [
       "{'x': array([[  0,   1,   0,   0,   1, 123, 252, 182,   9,   1,   1,  45, 255,\n",
       "         254, 124,   0,   0,   0,   0,   0],\n",
       "        [  1,   0,   1,   0,   0, 118, 255, 254,  46,   0,   0,  47, 255,\n",
       "         255, 119,   1,   0,   0,   0,   0],\n",
       "        [  2,   0,   0,   2,   0, 123, 255, 253,  71,   2,   0, 255, 251,\n",
       "         255, 121,   0,   0,   0,   0,   0],\n",
       "        [  0,   0,   3,   0,   6, 197, 251, 255, 255, 103, 106, 255, 255,\n",
       "         254, 123,   0,   0,   0,   0,   0],\n",
       "        [  0,   4,   0,   0,   4, 255, 255, 255, 255, 254, 255, 254, 253,\n",
       "         254, 123,   1,   0,   0,   0,   0],\n",
       "        [  1,   0,   0,   0,   4, 255, 250, 255, 255, 254, 255, 253, 255,\n",
       "         255, 117,   0,   0,   0,   0,   0],\n",
       "        [  0,   1,   0,   1,   9, 254, 255, 165, 210, 255, 255, 255, 255,\n",
       "         254, 118,   4,   0,   0,   0,   0],\n",
       "        [  1,   0,   1,   0,   5, 255, 252, 160,   0, 255, 254,  28, 218,\n",
       "         255, 124,   0,   0,   0,   0,   0],\n",
       "        [  0,   0,   0,   0,   6, 255, 253, 159,   0, 255, 100,   1, 159,\n",
       "         254, 123,   0,   0,   0,   0,   0],\n",
       "        [  0,   2,   0,   0,   6, 218, 255, 159,   0,  50,  50,   0, 158,\n",
       "         255, 118,   1,   0,   0,   0,   0],\n",
       "        [  1,   0,   0,   1,   0, 121, 252, 159,   0,   0,   1,   0, 161,\n",
       "         255, 119,   1,   0,   0,   0,   0],\n",
       "        [  1,   0,   0,   0,   6, 255, 255, 158,   1,   0,   1,   3, 155,\n",
       "         255, 122,   0,   0,   0,   0,   0],\n",
       "        [  1,   0,   4,   4,   2, 255, 251, 159,   0,   0,   0,   0, 159,\n",
       "         254, 122,   0,   0,   0,   0,   0],\n",
       "        [  0,   3,   0,   0,   7, 255, 251, 160,   4,   0,   1,   0, 156,\n",
       "         255, 122,   0,   0,   0,   0,   0],\n",
       "        [  2,   0,   0,   1,   6, 179, 255, 159,   0,   0,   0,   0, 164,\n",
       "         253, 121,   0,   0,   0,   0,   0],\n",
       "        [  1,   0,   2,   1,   0, 122, 255, 158,   1,   2,   0,   0, 156,\n",
       "         255, 120,   1,   0,   0,   0,   0],\n",
       "        [  0,   1,   0,   3,   4, 255, 254, 159,   1,   0,   0,   0, 160,\n",
       "         253, 120,   1,   0,   0,   0,   0],\n",
       "        [  0,   1,   0,   1,   1, 137, 255, 159,   0,   0,   0,   2, 160,\n",
       "         255, 123,   0,   0,   0,   0,   0],\n",
       "        [  4,   0,   2,   0,   1, 122, 254, 108,   1,   0,   5,   0, 158,\n",
       "         255, 123,   0,   0,   0,   0,   0],\n",
       "        [  0,   0,   1,   4,   0, 121, 255,   0,   0,   0,   0,   0,  34,\n",
       "         241,  26,   0,   0,   0,   0,   0]], dtype=uint8),\n",
       " 'y': 'M'}"
      ]
     },
     "execution_count": 4,
     "metadata": {},
     "output_type": "execute_result"
    }
   ],
   "source": [
    "data[0]"
   ]
  },
  {
   "cell_type": "code",
   "execution_count": 5,
   "metadata": {},
   "outputs": [],
   "source": [
    "def getRandomIndex(n, x):\n",
    "    # the index is from 0 to n, not included n, and the index is not replace\n",
    "    index = np.random.choice(np.arange(n), size=x, replace=False)\n",
    "    return index"
   ]
  },
  {
   "cell_type": "code",
   "execution_count": 6,
   "metadata": {},
   "outputs": [],
   "source": [
    "X = [d['x'] for d in data]\n",
    "y = [d['y'] for d in data]\n",
    "\n",
    "ys = list(np.unique(y))\n",
    "y = [ys.index(v) for v in y]\n",
    "\n",
    "# generate random index\n",
    "train_index = getRandomIndex(len(X),int(len(X)*0.8))\n",
    "test_index = np.delete(np.arange(len(X)), train_index)\n",
    "\n",
    "x_train = [X[i] for i in train_index.tolist()]\n",
    "y_train = [y[i] for i in train_index.tolist()]\n",
    "\n",
    "x_test = [X[i] for i in test_index.tolist()]\n",
    "y_test = [y[i] for i in test_index.tolist()]\n"
   ]
  },
  {
   "cell_type": "markdown",
   "metadata": {},
   "source": [
    "# Examming and Understand data set for trainning\n"
   ]
  },
  {
   "cell_type": "code",
   "execution_count": 7,
   "metadata": {},
   "outputs": [
    {
     "name": "stdout",
     "output_type": "stream",
     "text": [
      "12920\n"
     ]
    }
   ],
   "source": [
    "# you may print out some infomation about train data set \n",
    "# print(x_train[0])\n",
    "# print(y_train)\n",
    "print(len(y_train))"
   ]
  },
  {
   "cell_type": "markdown",
   "metadata": {},
   "source": [
    "# Decide a few parameters for trainning\n",
    "\n",
    "such as batch size, epochs, image size in rows and colomns, etc."
   ]
  },
  {
   "cell_type": "code",
   "execution_count": 8,
   "metadata": {},
   "outputs": [],
   "source": [
    "# you decide those parameters below\n",
    "\n",
    "# after the batch_size input, the weight will be updated\n",
    "batch_size = 128\n",
    "num_classes = len(ys)\n",
    "epochs =  25\n",
    "\n",
    "## input image dimensions\n",
    "img_rows, img_cols = x_train[0].shape\n",
    "label_type_num = len(ys)"
   ]
  },
  {
   "cell_type": "code",
   "execution_count": 9,
   "metadata": {},
   "outputs": [
    {
     "data": {
      "text/plain": [
       "12920"
      ]
     },
     "metadata": {},
     "output_type": "display_data"
    }
   ],
   "source": [
    "#Extend the data chennels to 4 dimemsions\n",
    "display(len(x_train))"
   ]
  },
  {
   "cell_type": "code",
   "execution_count": 10,
   "metadata": {},
   "outputs": [],
   "source": [
    "def extend_channel(data):\n",
    "    if K.image_data_format() == 'channels_first':\n",
    "        data = data.reshape(data.shape[0], 1, img_rows, img_cols)\n",
    "    else:\n",
    "        data = data.reshape(data.shape[0], img_rows, img_cols, 1)\n",
    "        \n",
    "    return data\n",
    "\n",
    "x_train = extend_channel(np.array(x_train))\n",
    "x_test = extend_channel(np.array(x_test))"
   ]
  },
  {
   "cell_type": "markdown",
   "metadata": {},
   "source": [
    "# Data normalization"
   ]
  },
  {
   "cell_type": "code",
   "execution_count": 11,
   "metadata": {},
   "outputs": [],
   "source": [
    "x_train = x_train.astype('float32')\n",
    "x_test = x_test.astype('float32')\n",
    "x_train /= 255\n",
    "x_test /= 255\n",
    "\n",
    "#TODO\n",
    "y_train = np_utils.to_categorical(y_train)\n",
    "y_test = np_utils.to_categorical(y_test)"
   ]
  },
  {
   "cell_type": "code",
   "execution_count": 12,
   "metadata": {},
   "outputs": [
    {
     "data": {
      "text/plain": [
       "(12920, 20, 20, 1)"
      ]
     },
     "metadata": {},
     "output_type": "display_data"
    },
    {
     "data": {
      "text/plain": [
       "(20, 20, 1)"
      ]
     },
     "metadata": {},
     "output_type": "display_data"
    },
    {
     "data": {
      "text/plain": [
       "(3231, 65)"
      ]
     },
     "metadata": {},
     "output_type": "display_data"
    }
   ],
   "source": [
    "input_shape = x_train.shape[1:]\n",
    "sign_input_shape = x_train.shape[1:]\n",
    "display(x_train.shape)\n",
    "display(sign_input_shape)\n",
    "display(y_test.shape)"
   ]
  },
  {
   "cell_type": "markdown",
   "metadata": {},
   "source": [
    "# Create a CNN model for character recognition\n",
    "\n",
    "This is an important part of this project. You have to create a cnn model using tensorflow and keras to train the data.\n"
   ]
  },
  {
   "cell_type": "code",
   "execution_count": 13,
   "metadata": {},
   "outputs": [],
   "source": [
    "#You can refer to the LeNet on the project 4\n",
    "# or use the same sample model in carplate_recognition.ipynb\n",
    "import tensorflow as tf\n",
    "\n",
    "# make a new model for sequential\n",
    "model = Sequential()\n",
    "\n",
    "# Layer 1: Convolutional.\n",
    "model.add(Conv2D(filters = 32, kernel_size = (3, 3),\n",
    "                 activation='relu',\n",
    "                 input_shape=sign_input_shape))\n",
    "# Pooling\n",
    "model.add(AveragePooling2D(pool_size=(2, 2)))\n",
    "\n",
    "# Layer 2: Convolutional.\n",
    "model.add(Conv2D(filters = 64, kernel_size = (3, 3), activation='relu'))\n",
    "\n",
    "# Pooling\n",
    "model.add(AveragePooling2D(pool_size=(2, 2)))\n",
    "\n",
    "# Flattem for fully connected\n",
    "model.add(Flatten())\n",
    "\n",
    "# Layer 3: Fully Connected\n",
    "model.add(Dense(128, activation='relu'))\n",
    "\n",
    "# Dropout\n",
    "model.add(Dropout(0.2))\n",
    "\n",
    "# Layer 4: Fully Connected\n",
    "model.add(Dense(label_type_num, activation='softmax'))"
   ]
  },
  {
   "cell_type": "code",
   "execution_count": 14,
   "metadata": {},
   "outputs": [],
   "source": [
    "model = Sequential()\n",
    "model.call = tf.function(model.call)\n",
    "model.add(Conv2D(32, kernel_size=(3, 3),\n",
    "                 activation='relu',\n",
    "                 input_shape=input_shape))\n",
    "model.add(Conv2D(64, (3, 3), activation='relu'))\n",
    "model.add(MaxPooling2D(pool_size=(2, 2)))\n",
    "model.add(Dropout(0.25))\n",
    "model.add(Flatten())\n",
    "model.add(Dense(128, activation='relu'))\n",
    "model.add(Dropout(0.2))\n",
    "model.add(Dense(num_classes, activation='softmax'))"
   ]
  },
  {
   "cell_type": "markdown",
   "metadata": {},
   "source": [
    "# Compile the model"
   ]
  },
  {
   "cell_type": "code",
   "execution_count": 15,
   "metadata": {},
   "outputs": [
    {
     "name": "stdout",
     "output_type": "stream",
     "text": [
      "Model: \"sequential_1\"\n",
      "_________________________________________________________________\n",
      " Layer (type)                Output Shape              Param #   \n",
      "=================================================================\n",
      " conv2d_2 (Conv2D)           (None, 18, 18, 32)        320       \n",
      "                                                                 \n",
      " conv2d_3 (Conv2D)           (None, 16, 16, 64)        18496     \n",
      "                                                                 \n",
      " max_pooling2d (MaxPooling2D  (None, 8, 8, 64)         0         \n",
      " )                                                               \n",
      "                                                                 \n",
      " dropout_1 (Dropout)         (None, 8, 8, 64)          0         \n",
      "                                                                 \n",
      " flatten_1 (Flatten)         (None, 4096)              0         \n",
      "                                                                 \n",
      " dense_2 (Dense)             (None, 128)               524416    \n",
      "                                                                 \n",
      " dropout_2 (Dropout)         (None, 128)               0         \n",
      "                                                                 \n",
      " dense_3 (Dense)             (None, 65)                8385      \n",
      "                                                                 \n",
      "=================================================================\n",
      "Total params: 551,617\n",
      "Trainable params: 551,617\n",
      "Non-trainable params: 0\n",
      "_________________________________________________________________\n"
     ]
    }
   ],
   "source": [
    "model.compile(loss=keras.losses.categorical_crossentropy,\n",
    "              optimizer=tf.keras.optimizers.Adam(),\n",
    "              metrics=['accuracy'])\n",
    "model.summary()"
   ]
  },
  {
   "cell_type": "code",
   "execution_count": 16,
   "metadata": {},
   "outputs": [
    {
     "data": {
      "text/plain": [
       "(12920, 20, 20, 1)"
      ]
     },
     "metadata": {},
     "output_type": "display_data"
    },
    {
     "data": {
      "text/plain": [
       "(12920, 65)"
      ]
     },
     "metadata": {},
     "output_type": "display_data"
    },
    {
     "data": {
      "text/plain": [
       "(3231, 20, 20, 1)"
      ]
     },
     "metadata": {},
     "output_type": "display_data"
    },
    {
     "data": {
      "text/plain": [
       "(3231, 65)"
      ]
     },
     "metadata": {},
     "output_type": "display_data"
    }
   ],
   "source": [
    "display(x_train.shape)\n",
    "display(y_train.shape)\n",
    "display(x_test.shape)\n",
    "display(y_test.shape)"
   ]
  },
  {
   "cell_type": "markdown",
   "metadata": {},
   "source": [
    "# Train your model\n"
   ]
  },
  {
   "cell_type": "code",
   "execution_count": 17,
   "metadata": {},
   "outputs": [
    {
     "name": "stdout",
     "output_type": "stream",
     "text": [
      "Epoch 1/25\n",
      "81/81 [==============================] - 10s 112ms/step - loss: 1.6807 - accuracy: 0.6166 - val_loss: 0.4503 - val_accuracy: 0.8851\n",
      "Epoch 2/25\n",
      "81/81 [==============================] - 9s 107ms/step - loss: 0.3584 - accuracy: 0.9122 - val_loss: 0.1811 - val_accuracy: 0.9582\n",
      "Epoch 3/25\n",
      "81/81 [==============================] - 9s 110ms/step - loss: 0.1909 - accuracy: 0.9538 - val_loss: 0.1469 - val_accuracy: 0.9640\n",
      "Epoch 4/25\n",
      "81/81 [==============================] - 9s 110ms/step - loss: 0.1328 - accuracy: 0.9672 - val_loss: 0.1149 - val_accuracy: 0.9729\n",
      "Epoch 5/25\n",
      "81/81 [==============================] - 9s 108ms/step - loss: 0.1017 - accuracy: 0.9734 - val_loss: 0.1105 - val_accuracy: 0.9745\n",
      "Epoch 6/25\n",
      "81/81 [==============================] - 9s 108ms/step - loss: 0.0833 - accuracy: 0.9798 - val_loss: 0.1019 - val_accuracy: 0.9756\n",
      "Epoch 7/25\n",
      "81/81 [==============================] - 9s 105ms/step - loss: 0.0720 - accuracy: 0.9823 - val_loss: 0.1011 - val_accuracy: 0.9779\n",
      "Epoch 8/25\n",
      "81/81 [==============================] - 9s 107ms/step - loss: 0.0604 - accuracy: 0.9841 - val_loss: 0.1059 - val_accuracy: 0.9783\n",
      "Epoch 9/25\n",
      "81/81 [==============================] - 9s 107ms/step - loss: 0.0547 - accuracy: 0.9844 - val_loss: 0.1056 - val_accuracy: 0.9764\n",
      "Epoch 10/25\n",
      "81/81 [==============================] - 9s 105ms/step - loss: 0.0507 - accuracy: 0.9866 - val_loss: 0.1094 - val_accuracy: 0.9779\n",
      "Epoch 11/25\n",
      "81/81 [==============================] - 9s 107ms/step - loss: 0.0513 - accuracy: 0.9865 - val_loss: 0.1056 - val_accuracy: 0.9779\n",
      "Epoch 12/25\n",
      "81/81 [==============================] - 8s 104ms/step - loss: 0.0448 - accuracy: 0.9885 - val_loss: 0.1043 - val_accuracy: 0.9799\n",
      "Epoch 13/25\n",
      "81/81 [==============================] - 9s 108ms/step - loss: 0.0425 - accuracy: 0.9879 - val_loss: 0.1011 - val_accuracy: 0.9787\n",
      "Epoch 14/25\n",
      "81/81 [==============================] - 9s 107ms/step - loss: 0.0377 - accuracy: 0.9893 - val_loss: 0.1043 - val_accuracy: 0.9787\n",
      "Epoch 15/25\n",
      "81/81 [==============================] - 9s 108ms/step - loss: 0.0360 - accuracy: 0.9899 - val_loss: 0.1063 - val_accuracy: 0.9795\n",
      "Epoch 16/25\n",
      "81/81 [==============================] - 9s 113ms/step - loss: 0.0360 - accuracy: 0.9896 - val_loss: 0.1083 - val_accuracy: 0.9779\n",
      "Epoch 17/25\n",
      "81/81 [==============================] - 9s 111ms/step - loss: 0.0328 - accuracy: 0.9909 - val_loss: 0.1050 - val_accuracy: 0.9772\n",
      "Epoch 18/25\n",
      "81/81 [==============================] - 9s 110ms/step - loss: 0.0338 - accuracy: 0.9912 - val_loss: 0.1029 - val_accuracy: 0.9795\n",
      "Epoch 19/25\n",
      "81/81 [==============================] - 9s 110ms/step - loss: 0.0332 - accuracy: 0.9910 - val_loss: 0.1003 - val_accuracy: 0.9791\n",
      "Epoch 20/25\n",
      "81/81 [==============================] - 9s 110ms/step - loss: 0.0323 - accuracy: 0.9907 - val_loss: 0.1014 - val_accuracy: 0.9795\n",
      "Epoch 21/25\n",
      "81/81 [==============================] - 9s 109ms/step - loss: 0.0312 - accuracy: 0.9907 - val_loss: 0.1008 - val_accuracy: 0.9795\n",
      "Epoch 22/25\n",
      "81/81 [==============================] - 9s 109ms/step - loss: 0.0311 - accuracy: 0.9902 - val_loss: 0.1091 - val_accuracy: 0.9779\n",
      "Epoch 23/25\n",
      "81/81 [==============================] - 9s 111ms/step - loss: 0.0304 - accuracy: 0.9917 - val_loss: 0.1123 - val_accuracy: 0.9799\n",
      "Epoch 24/25\n",
      "81/81 [==============================] - 9s 110ms/step - loss: 0.0305 - accuracy: 0.9908 - val_loss: 0.1008 - val_accuracy: 0.9799\n",
      "Epoch 25/25\n",
      "81/81 [==============================] - 9s 111ms/step - loss: 0.0286 - accuracy: 0.9921 - val_loss: 0.1026 - val_accuracy: 0.9810\n",
      "101/101 [==============================] - 1s 10ms/step - loss: 0.0999 - accuracy: 0.9820\n",
      "Loss: 0.099921315908432\n",
      "Acc: 0.9820489287376404\n"
     ]
    }
   ],
   "source": [
    "# intitial test\n",
    "batch_size = 128\n",
    "epochs =  25\n",
    "\n",
    "model_test = model.fit(x_train, y_train, batch_size=batch_size, epochs=epochs,validation_freq=1, validation_split=0.2)\n",
    "score = model.evaluate(x_test, y_test)\n",
    "print(\"Loss:\",score[0])\n",
    "print(\"Acc:\", score[1])"
   ]
  },
  {
   "cell_type": "markdown",
   "metadata": {},
   "source": [
    "# Visualize training results"
   ]
  },
  {
   "cell_type": "code",
   "execution_count": 18,
   "metadata": {},
   "outputs": [],
   "source": [
    "epochs_range = range(epochs)\n",
    "acc = model_test.history['accuracy']\n",
    "val_acc = model_test.history['val_accuracy']\n",
    "loss = model_test.history['loss']\n",
    "val_loss = model_test.history['val_loss']"
   ]
  },
  {
   "cell_type": "code",
   "execution_count": 19,
   "metadata": {},
   "outputs": [
    {
     "data": {
      "image/png": "[encoded data removed]",
      "text/plain": [
       "<Figure size 576x576 with 2 Axes>"
      ]
     },
     "metadata": {
      "needs_background": "light"
     },
     "output_type": "display_data"
    }
   ],
   "source": [
    "plt.figure(figsize=(8, 8))\n",
    "plt.subplot(1, 2, 1)\n",
    "plt.plot(epochs_range, acc, label='Training Accuracy')\n",
    "plt.plot(epochs_range, val_acc, label='Validation Accuracy')\n",
    "plt.legend(loc='lower right')\n",
    "plt.title('Training and Validation Accuracy')\n",
    "\n",
    "plt.subplot(1, 2, 2)\n",
    "plt.plot(epochs_range, loss, label='Training Loss')\n",
    "plt.plot(epochs_range, val_loss, label='Validation Loss')\n",
    "plt.legend(loc='upper right')\n",
    "plt.title('Training and Validation Loss')\n",
    "plt.show()"
   ]
  },
  {
   "cell_type": "markdown",
   "metadata": {},
   "source": [
    "# Model Evaluation \n",
    "\n",
    "Evaluate your model with test dataset.\n",
    "\n",
    "make sure your model accuracy should be more than 97 percent. Otherwise, you have to go back to fine tune your model with whatever methods you have learned to improve its accuracy. You have to handle over-fitting or under-fitting problem you may encounter."
   ]
  },
  {
   "cell_type": "code",
   "execution_count": 20,
   "metadata": {
    "scrolled": false
   },
   "outputs": [
    {
     "name": "stdout",
     "output_type": "stream",
     "text": [
      "101/101 [==============================] - 1s 9ms/step - loss: 0.0999 - accuracy: 0.9820\n",
      "Test loss: 0.099921315908432\n",
      "Test accuracy: 0.9820489287376404\n"
     ]
    }
   ],
   "source": [
    "score = model.evaluate(x_test, y_test)\n",
    "print('Test loss:', score[0])\n",
    "print('Test accuracy:', score[1])"
   ]
  },
  {
   "cell_type": "markdown",
   "metadata": {},
   "source": [
    "# Save your model weights\n",
    "\n",
    "You should save your model for car plate recognition purpose later.\n"
   ]
  },
  {
   "cell_type": "code",
   "execution_count": 22,
   "metadata": {},
   "outputs": [],
   "source": [
    "# when you finish training, you should save your model in a file\n",
    "# for carplate_recognition.ipynb\n",
    "# since it will use this model to recognize car plates \n",
    "model.save_weights('char_cnn_get.h5')"
   ]
  },
  {
   "cell_type": "code",
   "execution_count": null,
   "metadata": {},
   "outputs": [],
   "source": []
  }
 ],
 "metadata": {
  "kernelspec": {
   "display_name": "Python 3",
   "language": "python",
   "name": "python3"
  },
  "language_info": {
   "codemirror_mode": {
    "name": "ipython",
    "version": 3
   },
   "file_extension": ".py",
   "mimetype": "text/x-python",
   "name": "python",
   "nbconvert_exporter": "python",
   "pygments_lexer": "ipython3",
   "version": "3.8.8"
  }
 },
 "nbformat": 4,
 "nbformat_minor": 2
}
