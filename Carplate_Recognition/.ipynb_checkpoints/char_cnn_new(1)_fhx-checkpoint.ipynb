{
 "cells": [
  {
   "cell_type": "markdown",
   "metadata": {},
   "source": [
    "# Import some packages\n",
    "\n",
    "You should load packages you may need in this project first"
   ]
  },
  {
   "cell_type": "code",
   "execution_count": 1,
   "metadata": {
    "scrolled": true
   },
   "outputs": [],
   "source": [
    "import skimage.io as io\n",
    "import skimage.color\n",
    "import skimage.transform\n",
    "import matplotlib.pyplot as plt\n",
    "%matplotlib inline\n",
    "import skimage.feature as feature\n",
    "import skimage.measure as measure\n",
    "import numpy as np\n",
    "import os\n",
    "import random\n",
    "import skimage.morphology as morphology\n",
    "\n",
    "import keras\n",
    "from keras.datasets import mnist\n",
    "from keras.models import Sequential\n",
    "from keras.layers import Dense, Dropout, Flatten\n",
    "from keras.layers import Conv2D, MaxPooling2D\n",
    "from keras import backend as K"
   ]
  },
  {
   "cell_type": "markdown",
   "metadata": {},
   "source": [
    "# Load character data from the dataset subfolder\n"
   ]
  },
  {
   "cell_type": "code",
   "execution_count": 2,
   "metadata": {
    "scrolled": true
   },
   "outputs": [
    {
     "name": "stdout",
     "output_type": "stream",
     "text": [
      "['0', '1', '2', '3', '4', '5', '6', '7', '8', '9', 'A', 'B', 'C', 'D', 'E', 'F', 'G', 'H', 'J', 'K', 'L', 'M', 'N', 'P', 'Q', 'R', 'S', 'T', 'U', 'V', 'W', 'X', 'Y', 'Z', '云', '京', '冀', '吉', '宁', '川', '新', '晋', '桂', '沪', '津', '浙', '渝', '湘', '琼', '甘', '皖', '粤', '苏', '蒙', '藏', '豫', '贵', '赣', '辽', '鄂', '闽', '陕', '青', '鲁', '黑']\n"
     ]
    },
    {
     "name": "stderr",
     "output_type": "stream",
     "text": [
      "<ipython-input-2-89ab76fb95e6>:15: FutureWarning: The behavior of rgb2gray will change in scikit-image 0.19. Currently, rgb2gray allows 2D grayscale image to be passed as inputs and leaves them unmodified as outputs. Starting from version 0.19, 2D arrays will be treated as 1D images with 3 channels.\n",
      "  img = skimage.color.rgb2gray(skimage.io.imread(path_lab + img))\n"
     ]
    }
   ],
   "source": [
    "# processing dataset\n",
    "labels = os.listdir(\"./dataset/\")\n",
    "print(labels)\n",
    "# create a dict to save labels\n",
    "dic = {i:j for i,j in zip(labels, range(len(labels)))}\n",
    "# judge it as a classification problem \n",
    "path = \"./dataset/\"\n",
    "img_ls, labels_ls = [], []\n",
    "for lab in labels:\n",
    "    path_lab = path + lab+\"/\"\n",
    "#     print(path_lab)\n",
    "#     print(os.listdir(path_lab))\n",
    "#     ls_img, ls_lab = [],[]\n",
    "    for img in os.listdir(path_lab):\n",
    "        img = skimage.color.rgb2gray(skimage.io.imread(path_lab + img))\n",
    "        # apply Canny Edge Detection and Dilation\n",
    "#         img = feature.canny(img, sigma=3)\n",
    "#         img = morphology.dilation(img)\n",
    "        img_ls.append(img)\n",
    "        labels_ls.append(dic[lab])"
   ]
  },
  {
   "cell_type": "code",
   "execution_count": 3,
   "metadata": {},
   "outputs": [
    {
     "data": {
      "text/plain": [
       "65"
      ]
     },
     "execution_count": 3,
     "metadata": {},
     "output_type": "execute_result"
    }
   ],
   "source": [
    "len(labels)"
   ]
  },
  {
   "cell_type": "code",
   "execution_count": 4,
   "metadata": {},
   "outputs": [
    {
     "data": {
      "text/plain": [
       "(16151, 16151)"
      ]
     },
     "execution_count": 4,
     "metadata": {},
     "output_type": "execute_result"
    }
   ],
   "source": [
    "len(img_ls),len(labels_ls)"
   ]
  },
  {
   "cell_type": "markdown",
   "metadata": {},
   "source": [
    "# create train data set and test data set \n",
    "Using 80/20 rule, 80 precent for trainning, and 20 percent for testing."
   ]
  },
  {
   "cell_type": "code",
   "execution_count": 5,
   "metadata": {},
   "outputs": [],
   "source": [
    "# I will move it to the training part\n",
    "x_train = np.array(img_ls)\n",
    "y_train = np.array(labels_ls)"
   ]
  },
  {
   "cell_type": "code",
   "execution_count": 6,
   "metadata": {},
   "outputs": [
    {
     "data": {
      "text/plain": [
       "((16151, 20, 20), (16151,))"
      ]
     },
     "execution_count": 6,
     "metadata": {},
     "output_type": "execute_result"
    }
   ],
   "source": [
    "x_train.shape, y_train.shape"
   ]
  },
  {
   "cell_type": "markdown",
   "metadata": {},
   "source": [
    "# Examming and Understand data set for trainning\n"
   ]
  },
  {
   "cell_type": "code",
   "execution_count": 7,
   "metadata": {},
   "outputs": [
    {
     "name": "stdout",
     "output_type": "stream",
     "text": [
      "(20, 20)\n",
      "[ 0  0  0 ... 64 64 64]\n",
      "16151\n"
     ]
    }
   ],
   "source": [
    "# you may print out some infomation about train data set \n",
    "print(x_train[0].shape)\n",
    "print(y_train)\n",
    "print(len(y_train))"
   ]
  },
  {
   "cell_type": "markdown",
   "metadata": {},
   "source": [
    "# Decide a few parameters for trainning\n",
    "\n",
    "such as batch size, epochs, image size in rows and colomns, etc."
   ]
  },
  {
   "cell_type": "code",
   "execution_count": 8,
   "metadata": {},
   "outputs": [],
   "source": [
    "# you decide those parameters below\n",
    "batch_size = 128\n",
    "num_classes =65\n",
    "epochs = 25\n",
    "\n",
    "# input image dimensions\n",
    "img_rows, img_cols =20,20"
   ]
  },
  {
   "cell_type": "code",
   "execution_count": 9,
   "metadata": {},
   "outputs": [],
   "source": [
    "#Extend the data chennels to 4 dimemsions"
   ]
  },
  {
   "cell_type": "code",
   "execution_count": 10,
   "metadata": {},
   "outputs": [],
   "source": [
    "def extend_channel(data):\n",
    "    if K.image_data_format() == 'channels_first':\n",
    "        data = data.reshape(data.shape[0], 1, img_rows, img_cols)\n",
    "    else:\n",
    "        data = data.reshape(data.shape[0], img_rows, img_cols, 1)\n",
    "        \n",
    "    return data\n",
    "\n",
    "x_train = extend_channel(x_train)\n",
    "input_shape = x_train.shape[1:]"
   ]
  },
  {
   "cell_type": "code",
   "execution_count": 11,
   "metadata": {},
   "outputs": [
    {
     "data": {
      "text/plain": [
       "((16151, 20, 20, 1), (20, 20, 1))"
      ]
     },
     "execution_count": 11,
     "metadata": {},
     "output_type": "execute_result"
    }
   ],
   "source": [
    "x_train.shape, input_shape"
   ]
  },
  {
   "cell_type": "markdown",
   "metadata": {},
   "source": [
    "# Data normalization"
   ]
  },
  {
   "cell_type": "code",
   "execution_count": 12,
   "metadata": {},
   "outputs": [],
   "source": [
    "x_train = x_train.astype('float32')\n",
    "#x_test = x_test.astype('float32')\n",
    "x_train /= 255\n",
    "\n",
    "#TODO\n",
    "from keras.utils import np_utils\n",
    "\n",
    "y_train = np_utils.to_categorical(y_train)"
   ]
  },
  {
   "cell_type": "code",
   "execution_count": 13,
   "metadata": {},
   "outputs": [
    {
     "data": {
      "text/plain": [
       "((16151, 65),)"
      ]
     },
     "execution_count": 13,
     "metadata": {},
     "output_type": "execute_result"
    }
   ],
   "source": [
    "y_train.shape, #y_test.shape"
   ]
  },
  {
   "cell_type": "markdown",
   "metadata": {},
   "source": [
    "# Create a CNN model for character recognition\n",
    "\n",
    "This is an important part of this project. You have to create a cnn model using tensorflow and keras to train the data.\n"
   ]
  },
  {
   "cell_type": "code",
   "execution_count": 24,
   "metadata": {},
   "outputs": [],
   "source": [
    "#You can refer to the LeNet on the project 4\n",
    "# or use the same sample model in carplate_recognition.ipynb\n",
    "import tensorflow as tf\n",
    "model = Sequential()\n",
    "model.add(Conv2D(32, kernel_size=(3, 3),\n",
    "                 activation='relu',\n",
    "                 input_shape=input_shape))\n",
    "model.add(Conv2D(64, (3, 3), activation='relu'))\n",
    "model.add(MaxPooling2D(pool_size=(2, 2)))\n",
    "model.add(Dropout(0.25))\n",
    "model.add(Flatten())\n",
    "model.add(Dense(128, activation='relu'))\n",
    "model.add(Dropout(0.2))\n",
    "model.add(Dense(num_classes, activation='softmax'))\n",
    "\n"
   ]
  },
  {
   "cell_type": "markdown",
   "metadata": {},
   "source": [
    "# Compile the model"
   ]
  },
  {
   "cell_type": "code",
   "execution_count": 28,
   "metadata": {
    "scrolled": false
   },
   "outputs": [
    {
     "name": "stdout",
     "output_type": "stream",
     "text": [
      "Model: \"sequential_1\"\n",
      "_________________________________________________________________\n",
      " Layer (type)                Output Shape              Param #   \n",
      "=================================================================\n",
      " conv2d_2 (Conv2D)           (None, 18, 18, 32)        320       \n",
      "                                                                 \n",
      " conv2d_3 (Conv2D)           (None, 16, 16, 64)        18496     \n",
      "                                                                 \n",
      " max_pooling2d_1 (MaxPooling  (None, 8, 8, 64)         0         \n",
      " 2D)                                                             \n",
      "                                                                 \n",
      " dropout_2 (Dropout)         (None, 8, 8, 64)          0         \n",
      "                                                                 \n",
      " flatten_1 (Flatten)         (None, 4096)              0         \n",
      "                                                                 \n",
      " dense_2 (Dense)             (None, 128)               524416    \n",
      "                                                                 \n",
      " dropout_3 (Dropout)         (None, 128)               0         \n",
      "                                                                 \n",
      " dense_3 (Dense)             (None, 65)                8385      \n",
      "                                                                 \n",
      "=================================================================\n",
      "Total params: 551,617\n",
      "Trainable params: 551,617\n",
      "Non-trainable params: 0\n",
      "_________________________________________________________________\n"
     ]
    }
   ],
   "source": [
    "model.compile(loss=keras.losses.categorical_crossentropy,\n",
    "              optimizer=tf.keras.optimizers.Adam(),\n",
    "              metrics=['accuracy'])\n",
    "model.summary()"
   ]
  },
  {
   "cell_type": "markdown",
   "metadata": {},
   "source": [
    "# Train your model\n"
   ]
  },
  {
   "cell_type": "code",
   "execution_count": 29,
   "metadata": {},
   "outputs": [],
   "source": [
    "np.random.seed(10) \n",
    "np.random.shuffle(x_train) \n",
    "np.random.seed(10)  \n",
    "np.random.shuffle(y_train)\n",
    "tf.random.set_seed(10)\n",
    "train_idx = int(0.8 * len(x_train))\n",
    "train_data = x_train[:train_idx, :, :]\n",
    "train_label = y_train[:train_idx]\n",
    "test_data = x_train[train_idx:, :, :]\n",
    "test_label = y_train[train_idx:]"
   ]
  },
  {
   "cell_type": "code",
   "execution_count": 30,
   "metadata": {
    "scrolled": false
   },
   "outputs": [
    {
     "name": "stdout",
     "output_type": "stream",
     "text": [
      "Epoch 1/5\n",
      "114/114 [==============================] - 9s 73ms/step - loss: 0.0340 - accuracy: 0.9915 - val_loss: 0.0350 - val_accuracy: 0.9907\n",
      "Epoch 2/5\n",
      "114/114 [==============================] - 8s 71ms/step - loss: 0.0269 - accuracy: 0.9923 - val_loss: 0.0350 - val_accuracy: 0.9913\n",
      "Epoch 3/5\n",
      "114/114 [==============================] - 8s 72ms/step - loss: 0.0243 - accuracy: 0.9935 - val_loss: 0.0364 - val_accuracy: 0.9907\n",
      "Epoch 4/5\n",
      "114/114 [==============================] - 8s 72ms/step - loss: 0.0244 - accuracy: 0.9931 - val_loss: 0.0331 - val_accuracy: 0.9913\n",
      "Epoch 5/5\n",
      "114/114 [==============================] - 8s 73ms/step - loss: 0.0225 - accuracy: 0.9940 - val_loss: 0.0365 - val_accuracy: 0.9913\n",
      "101/101 [==============================] - 0s 4ms/step - loss: 0.0306 - accuracy: 0.9926\n",
      "Test score loss: 0.03057057224214077\n",
      "Test score acc: 0.9925719499588013\n"
     ]
    }
   ],
   "source": [
    "finetune =  True\n",
    "if not finetune:\n",
    "    result_ini = model.fit(x_train, y_train, batch_size=batch_size, epochs=epochs,validation_freq=1, validation_split=0.2)\n",
    "    score = model.evaluate(test_data, test_label)\n",
    "    print(\"Test score loss:\",score[0])\n",
    "    print(\"Test score acc:\", score[1])\n",
    "    model.save_weights('char_cnn.h6')\n",
    "else:\n",
    "    model.load_weights(\"char_cnn.h6\")\n",
    "    result_fin = model.fit(x_train, y_train, batch_size=batch_size, epochs=5,validation_freq=1, validation_split=0.2)\n",
    "    score = model.evaluate(test_data, test_label)\n",
    "    print(\"Test score loss:\",score[0])\n",
    "    print(\"Test score acc:\", score[1])\n",
    "    model.save_weights('char_cnn.h6')\n"
   ]
  },
  {
   "cell_type": "markdown",
   "metadata": {},
   "source": [
    "# Visualize training results"
   ]
  },
  {
   "cell_type": "code",
   "execution_count": 18,
   "metadata": {
    "scrolled": true
   },
   "outputs": [],
   "source": [
    "epochs_range = range(epochs)\n",
    "loss = result_ini.history['loss']\n",
    "acc = result_ini.history['accuracy']\n",
    "val_acc = result_ini.history['val_accuracy']\n",
    "val_loss = result_ini.history['val_loss']"
   ]
  },
  {
   "cell_type": "code",
   "execution_count": 31,
   "metadata": {},
   "outputs": [
    {
     "data": {
      "image/png": "[encoded data removed]",
      "text/plain": [
       "<Figure size 576x576 with 2 Axes>"
      ]
     },
     "metadata": {
      "needs_background": "light"
     },
     "output_type": "display_data"
    }
   ],
   "source": [
    "epochs_range = range(epochs)\n",
    "plt.figure(figsize=(8, 8))\n",
    "plt.subplot(1, 2, 1)\n",
    "plt.plot(epochs_range, acc, label='Training Accuracy')\n",
    "plt.plot(epochs_range, val_acc, label='Validation Accuracy')\n",
    "plt.legend(loc='lower right')\n",
    "plt.title('Training and Validation Accuracy')\n",
    "\n",
    "plt.subplot(1, 2, 2)\n",
    "plt.plot(epochs_range, loss, label='Training Loss')\n",
    "plt.plot(epochs_range, val_loss, label='Validation Loss')\n",
    "plt.legend(loc='upper right')\n",
    "plt.title('Training and Validation Loss')\n",
    "plt.show()"
   ]
  },
  {
   "cell_type": "markdown",
   "metadata": {},
   "source": [
    "# Model Evaluation \n",
    "\n",
    "Evaluate your model with test dataset.\n",
    "\n",
    "make sure your model accuracy should be more than 99 percent. Otherwise, you have to go back to fine tune your model with whatever methods you have learned to improve its accuracy. You have to handle over-fitting or under-fitting problem you may encounter."
   ]
  },
  {
   "cell_type": "code",
   "execution_count": 32,
   "metadata": {
    "scrolled": true
   },
   "outputs": [
    {
     "name": "stdout",
     "output_type": "stream",
     "text": [
      "101/101 [==============================] - 0s 5ms/step - loss: 0.0306 - accuracy: 0.9926\n",
      "Test loss: 0.03057057224214077\n",
      "Test accuracy: 0.9925719499588013\n"
     ]
    }
   ],
   "source": [
    "score = model.evaluate(test_data, test_label)\n",
    "print('Test loss:', score[0])\n",
    "print('Test accuracy:', score[1])"
   ]
  },
  {
   "cell_type": "markdown",
   "metadata": {},
   "source": [
    "# Save your model weights\n",
    "\n",
    "You should save your model for car plate recognition purpose later.\n"
   ]
  },
  {
   "cell_type": "code",
   "execution_count": 21,
   "metadata": {},
   "outputs": [],
   "source": [
    "# when you finish training, you should save your model in a file\n",
    "# for carplate_recognition.ipynb\n",
    "# since it will use this model to recognize car plates \n",
    "model.save_weights('char_cnn.h6')"
   ]
  }
 ],
 "metadata": {
  "kernelspec": {
   "display_name": "Python 3",
   "language": "python",
   "name": "python3"
  },
  "language_info": {
   "codemirror_mode": {
    "name": "ipython",
    "version": 3
   },
   "file_extension": ".py",
   "mimetype": "text/x-python",
   "name": "python",
   "nbconvert_exporter": "python",
   "pygments_lexer": "ipython3",
   "version": "3.8.8"
  }
 },
 "nbformat": 4,
 "nbformat_minor": 2
}
