{
 "cells": [
  {
   "cell_type": "markdown",
   "metadata": {},
   "source": [
    "## Open Information Extraction\n",
    "Open information extraction (open IE) refers to the extraction of relation tuples, typically binary relations, from plain text, such as (Mark Zuckerberg; founded; Facebook). The central difference from other information extraction is that the schema for these relations does not need to be specified in advance; typically the relation name is just the text linking two arguments.\n",
    "- StanfordOpenIE (https://nlp.stanford.edu/software/openie.html) StanfordOpenIE is part of StanfordCoreNLP, which is built on top of PyTorch 1.0.0. \n",
    " - Therefore, first install pytorch (https://pytorch.org/get-started/locally/), select your  os, package, language, cuda , then use the   command to install.\n",
    " - Install StanfordOpenIE using ``pip install stanford-openie``(https://pypi.org/project/stanford-openie/)\n",
    " - Install Java SE Development Kit 8 (https://www.oracle.com/technetwork/java/javase/downloads/jdk8-downloads-2133151.html/)\n",
    " - Install graphviz : conda install python-graphviz\n",
    " - Unzip the stanford-corenlp-full-2018-10-05.zip to \"C:\\Users\\UIC\\stanfordnlp_resources\""
   ]
  },
  {
   "cell_type": "code",
   "execution_count": 1,
   "metadata": {},
   "outputs": [],
   "source": [
    "import nltk\n",
    "from nltk import pos_tag, word_tokenize, ne_chunk, Tree\n",
    "from openie import StanfordOpenIE\n",
    "from graphviz import Digraph\n",
    "import numpy as np"
   ]
  },
  {
   "cell_type": "markdown",
   "metadata": {},
   "source": [
    "### Triple Extraction from text using ``StanfordOpenIE``"
   ]
  },
  {
   "cell_type": "code",
   "execution_count": 2,
   "metadata": {},
   "outputs": [
    {
     "name": "stdout",
     "output_type": "stream",
     "text": [
      "Text: Barack Obama was the 44th president of the United States.\n",
      "Starting server with command: java -Xmx8G -cp C:\\Users\\Andi\\.stanfordnlp_resources\\stanford-corenlp-4.1.0/* edu.stanford.nlp.pipeline.StanfordCoreNLPServer -port 9000 -timeout 60000 -threads 5 -maxCharLength 100000 -quiet True -serverProperties corenlp_server-472748174e3a4a29.props -preload openie\n",
      "|- {'subject': 'Barack Obama', 'relation': 'was 44th president of', 'object': 'United States'}\n",
      "|- {'subject': 'Barack Obama', 'relation': 'was president of', 'object': 'United States'}\n",
      "|- {'subject': 'Barack Obama', 'relation': 'was', 'object': 'president'}\n",
      "|- {'subject': 'Barack Obama', 'relation': 'was', 'object': '44th president'}\n"
     ]
    }
   ],
   "source": [
    "# Example code for using StanfordOpenIE in python\n",
    "from openie import StanfordOpenIE\n",
    "\n",
    "with StanfordOpenIE() as client:\n",
    "    text = 'Barack Obama was the 44th president of the United States'\n",
    "    print('Text: %s.' % text)\n",
    "    for triple in client.annotate(text):\n",
    "        print('|-', triple)"
   ]
  },
  {
   "cell_type": "markdown",
   "metadata": {},
   "source": [
    "For each sentence, StanfordOpenIE will return several triples with high confidence scores. To further refine the results, we can perform filtering by some constraints:\n",
    "- The subjet and object must be named entity from some predfined types\n",
    "- The relation must be verb or verb phrases (chunk rule)\n",
    "\n",
    "Come up with your own refinement strategy to get a better result."
   ]
  },
  {
   "cell_type": "code",
   "execution_count": 3,
   "metadata": {
    "scrolled": true
   },
   "outputs": [
    {
     "name": "stdout",
     "output_type": "stream",
     "text": [
      "Text:  Barack Obama was the 44th president of the United States, and the first African American to serve in the office.\n",
      "          On October 3, 1992,  Barack Obama married  Michelle Robinson at Trinity United Church in Chicago. .\n",
      "Starting server with command: java -Xmx8G -cp C:\\Users\\Andi\\.stanfordnlp_resources\\stanford-corenlp-4.1.0/* edu.stanford.nlp.pipeline.StanfordCoreNLPServer -port 9000 -timeout 60000 -threads 5 -maxCharLength 100000 -quiet True -serverProperties corenlp_server-67fba13be406456d.props -preload openie\n",
      "Extracted Triples: [['Barack Obama', 'was 44th president of', 'United States'], ['Barack Obama', 'was president of', 'United States'], ['Barack Obama', 'married', 'Michelle Robinson'], ['Barack Obama', 'married Michelle Robinson at', 'Trinity United Church'], ['Barack Obama', 'married Michelle Robinson in', ' Chicago']]\n"
     ]
    }
   ],
   "source": [
    "def extract_triple(text):\n",
    "    # your implementation\n",
    "    triples = []  # initialize a list to store the result\n",
    "    \n",
    "    def remove(lists,label): \n",
    "        subject = [\"PERSON\"]\n",
    "        labels= [\"PERSON\",\"GPE\", \"ORGANIZATION\", ]\n",
    "        outcome = []  \n",
    "        IN = None\n",
    "        no = [\" on\", \" at\"]\n",
    "        check = list(w_p.keys())\n",
    "        for i in lists:\n",
    "            skip = False\n",
    "            for j in i[0].split(\" \"):\n",
    "                if not j in check:\n",
    "                    continue\n",
    "                if not w_p[j] in subject or skip:\n",
    "                    skip = True\n",
    "                    continue\n",
    "            for j in i[-1].split(\" \"):\n",
    "                if not j in check:\n",
    "                    continue\n",
    "                if w_p[j] == \"IN\":\n",
    "                    IN = j\n",
    "                if not w_p[j] in labels or skip:\n",
    "                    skip = True\n",
    "                    continue\n",
    "            if len(outcome)>1 and i[1] == outcome[-1][1]:\n",
    "                if outcome[-1][-1] in i[-1]:\n",
    "                    i[-1] = i[-1].replace(outcome[-1][-1], \"\").replace(IN+\" \", \"\")\n",
    "                    for n in no:\n",
    "                        if n in i[1][-4:]:\n",
    "                            i[1] = i[1].replace(n, \" \"+IN)\n",
    "                    outcome.append(i)\n",
    "            if not skip:\n",
    "                outcome.append(i)\n",
    "        return outcome\n",
    "    # create a dictionary containing the attribute info of every word\n",
    "    chunks = ne_chunk(pos_tag(word_tokenize(text))) #makeing the chunks for the text in order to get the single words and this pos\n",
    "    w_p = {}#import the words and this pos to this dictionary\n",
    "    for i in chunks:\n",
    "        if type(i)==Tree:\n",
    "            for j in i.leaves()[0]:\n",
    "                w_p[j] = i._label\n",
    "        else:\n",
    "            w_p[i[0]] = i[1]\n",
    "    #extract the text using the StanFordOpenIE()\n",
    "    with StanfordOpenIE() as client:\n",
    "        print('Text: %s.' % text)\n",
    "        for triple in client.annotate(text):\n",
    "            triples.append(list(triple.values()))\n",
    "    triples = remove(triples, w_p)#called back the function and remove the noised word\n",
    "    return triples\n",
    "\n",
    "tr = extract_triple(\"\"\" Barack Obama was the 44th president of the United States, and the first African American to serve in the office.\n",
    "          On October 3, 1992,  Barack Obama married  Michelle Robinson at Trinity United Church in Chicago. \"\"\")\n",
    "print(\"Extracted Triples:\",tr)"
   ]
  },
  {
   "cell_type": "markdown",
   "metadata": {},
   "source": [
    "### Construct the KB from Triples\n",
    "Given the knowledge triples, we need to index all the entities and relations, i.e.,get the entity set and relation set, and represent each triple using entity id and relation id."
   ]
  },
  {
   "cell_type": "code",
   "execution_count": 4,
   "metadata": {
    "scrolled": false
   },
   "outputs": [
    {
     "name": "stdout",
     "output_type": "stream",
     "text": [
      "Entities: {0: ' Chicago', 1: 'Barack Obama', 2: 'Michelle Robinson', 3: 'Trinity United Church', 4: 'United States'} \n",
      "Relations: {0: 'married', 1: 'married Michelle Robinson at', 2: 'married Michelle Robinson in', 3: 'was 44th president of', 4: 'was president of'} \n",
      "Triples: [[1, 3, 4], [1, 4, 4], [1, 0, 2], [1, 1, 3], [1, 2, 0]]\n"
     ]
    }
   ],
   "source": [
    "def KB(triples):\n",
    "    # your implementation\n",
    "    id_en_list = []\n",
    "    re_en_list = []\n",
    "    triples_id=[]\n",
    "    # your implementation\n",
    "    for i in triples:\n",
    "        id_en_list.append(i[0])# the entity ones\n",
    "        id_en_list.append(i[-1])# the relation dict\n",
    "        re_en_list.append(i[1])# the triple dict\n",
    "    id_en_list= list(np.unique(id_en_list))\n",
    "    re_en_list = list(np.unique(re_en_list)) \n",
    "    #for entity dict \n",
    "    id_en = dict(enumerate(id_en_list))\n",
    "    #for relation dict\n",
    "    re_en=dict(enumerate(re_en_list))\n",
    "    # for triples\n",
    "    for i in triples:\n",
    "        tmp = []\n",
    "        tmp.append(id_en_list.index(i[0]))# import subject\n",
    "        tmp.append(re_en_list.index(i[1]))#relation\n",
    "        tmp.append(id_en_list.index(i[2]))#object\n",
    "        triples_id.append(tmp)\n",
    "    return id_en,re_en,triples_id\n",
    "kb = KB(tr)\n",
    "print(\"Entities:\", kb[0], \"\\nRelations:\",kb[1], \"\\nTriples:\",kb[2])\n"
   ]
  },
  {
   "cell_type": "markdown",
   "metadata": {},
   "source": [
    "### Visualize the KB using ``graphviz``\n",
    "- To render the graph, the dependency is a working installation of ``Graphviz`` (https://www.graphviz.org/download/).\n",
    "- After installing Graphviz, make sure that its ``bin/`` subdirectory containing the layout commands for rendering graph descriptions (dot, circo, neato, etc.) is on your systems’ path: On the command-line, ``dot -V`` should print the version of your Graphiz installation.\n",
    "- Refer to https://graphviz.readthedocs.io/en/stable/manual.html for the user guid of graphviz"
   ]
  },
  {
   "cell_type": "code",
   "execution_count": 5,
   "metadata": {
    "scrolled": true
   },
   "outputs": [
    {
     "name": "stdout",
     "output_type": "stream",
     "text": [
      "// KB-Demo\n",
      "digraph {\n",
      "\t0 [label=\" Chicago\"]\n",
      "\t1 [label=\"Barack Obama\"]\n",
      "\t2 [label=\"Michelle Robinson\"]\n",
      "\t3 [label=\"Trinity United Church\"]\n",
      "\t4 [label=\"United States\"]\n",
      "\t1 -> 4 [label=\"was 44th president of\"]\n",
      "\t1 -> 4 [label=\"was president of\"]\n",
      "\t1 -> 2 [label=married]\n",
      "\t1 -> 3 [label=\"married Michelle Robinson at\"]\n",
      "\t1 -> 0 [label=\"married Michelle Robinson in\"]\n",
      "}\n"
     ]
    }
   ],
   "source": [
    "def visualizeKB(kb_input):\n",
    "    dot = Digraph(comment='KB-Demo') \n",
    "    for i in kb_input[0].keys():\n",
    "        dot.node(str(i), kb_input[0][i])  \n",
    "    for i in kb_input[2]:\n",
    "        dot.edge(str(i[0]),str(i[2]), label=kb_input[1][i[1]])\n",
    "    return dot\n",
    "dot = visualizeKB(kb)\n",
    "print(dot.source)"
   ]
  },
  {
   "cell_type": "code",
   "execution_count": 7,
   "metadata": {},
   "outputs": [
    {
     "data": {
      "image/svg+xml": [
       "<?xml version=\"1.0\" encoding=\"UTF-8\" standalone=\"no\"?>\r\n",
       "<!DOCTYPE svg PUBLIC \"-//W3C//DTD SVG 1.1//EN\"\r\n",
       " \"http://www.w3.org/Graphics/SVG/1.1/DTD/svg11.dtd\">\r\n",
       "<!-- Generated by graphviz version 2.38.0 (20140413.2041)\r\n",
       " -->\r\n",
       "<!-- Title: %3 Pages: 1 -->\r\n",
       "<svg width=\"760pt\" height=\"131pt\"\r\n",
       " viewBox=\"0.00 0.00 759.55 131.00\" xmlns=\"http://www.w3.org/2000/svg\" xmlns:xlink=\"http://www.w3.org/1999/xlink\">\r\n",
       "<g id=\"graph0\" class=\"graph\" transform=\"scale(1 1) rotate(0) translate(4 127)\">\r\n",
       "<title>%3</title>\r\n",
       "<polygon fill=\"white\" stroke=\"none\" points=\"-4,4 -4,-127 755.546,-127 755.546,4 -4,4\"/>\r\n",
       "<!-- 0 -->\r\n",
       "<g id=\"node1\" class=\"node\"><title>0</title>\r\n",
       "<ellipse fill=\"none\" stroke=\"black\" cx=\"43.5461\" cy=\"-18\" rx=\"43.5923\" ry=\"18\"/>\r\n",
       "<text text-anchor=\"middle\" x=\"43.5461\" y=\"-14.3\" font-family=\"Times New Roman,serif\" font-size=\"14.00\"> Chicago</text>\r\n",
       "</g>\r\n",
       "<!-- 1 -->\r\n",
       "<g id=\"node2\" class=\"node\"><title>1</title>\r\n",
       "<ellipse fill=\"none\" stroke=\"black\" cx=\"345.546\" cy=\"-105\" rx=\"64.9885\" ry=\"18\"/>\r\n",
       "<text text-anchor=\"middle\" x=\"345.546\" y=\"-101.3\" font-family=\"Times New Roman,serif\" font-size=\"14.00\">Barack Obama</text>\r\n",
       "</g>\r\n",
       "<!-- 1&#45;&gt;0 -->\r\n",
       "<g id=\"edge5\" class=\"edge\"><title>1&#45;&gt;0</title>\r\n",
       "<path fill=\"none\" stroke=\"black\" d=\"M283.79,-99.316C221.884,-93.8939 131.331,-83.7733 99.5461,-69 86.1719,-62.7837 73.6798,-52.2939 63.9029,-42.523\"/>\r\n",
       "<polygon fill=\"black\" stroke=\"black\" points=\"66.4217,-40.0928 56.9861,-35.274 61.3573,-44.9251 66.4217,-40.0928\"/>\r\n",
       "<text text-anchor=\"middle\" x=\"182.046\" y=\"-57.8\" font-family=\"Times New Roman,serif\" font-size=\"14.00\">married Michelle Robinson in</text>\r\n",
       "</g>\r\n",
       "<!-- 2 -->\r\n",
       "<g id=\"node3\" class=\"node\"><title>2</title>\r\n",
       "<ellipse fill=\"none\" stroke=\"black\" cx=\"206.546\" cy=\"-18\" rx=\"79.0865\" ry=\"18\"/>\r\n",
       "<text text-anchor=\"middle\" x=\"206.546\" y=\"-14.3\" font-family=\"Times New Roman,serif\" font-size=\"14.00\">Michelle Robinson</text>\r\n",
       "</g>\r\n",
       "<!-- 1&#45;&gt;2 -->\r\n",
       "<g id=\"edge3\" class=\"edge\"><title>1&#45;&gt;2</title>\r\n",
       "<path fill=\"none\" stroke=\"black\" d=\"M320.051,-88.4097C297.994,-74.9211 265.89,-55.2892 241.449,-40.3433\"/>\r\n",
       "<polygon fill=\"black\" stroke=\"black\" points=\"243.181,-37.3001 232.824,-35.069 239.529,-43.272 243.181,-37.3001\"/>\r\n",
       "<text text-anchor=\"middle\" x=\"306.046\" y=\"-57.8\" font-family=\"Times New Roman,serif\" font-size=\"14.00\">married</text>\r\n",
       "</g>\r\n",
       "<!-- 3 -->\r\n",
       "<g id=\"node4\" class=\"node\"><title>3</title>\r\n",
       "<ellipse fill=\"none\" stroke=\"black\" cx=\"394.546\" cy=\"-18\" rx=\"90.1842\" ry=\"18\"/>\r\n",
       "<text text-anchor=\"middle\" x=\"394.546\" y=\"-14.3\" font-family=\"Times New Roman,serif\" font-size=\"14.00\">Trinity United Church</text>\r\n",
       "</g>\r\n",
       "<!-- 1&#45;&gt;3 -->\r\n",
       "<g id=\"edge4\" class=\"edge\"><title>1&#45;&gt;3</title>\r\n",
       "<path fill=\"none\" stroke=\"black\" d=\"M342.244,-86.8603C341.154,-76.7468 341.33,-64.0095 346.546,-54 348.928,-49.4298 352.208,-45.3102 355.946,-41.6395\"/>\r\n",
       "<polygon fill=\"black\" stroke=\"black\" points=\"358.24,-44.283 363.582,-35.1332 353.7,-38.9548 358.24,-44.283\"/>\r\n",
       "<text text-anchor=\"middle\" x=\"429.046\" y=\"-57.8\" font-family=\"Times New Roman,serif\" font-size=\"14.00\">married Michelle Robinson at</text>\r\n",
       "</g>\r\n",
       "<!-- 4 -->\r\n",
       "<g id=\"node5\" class=\"node\"><title>4</title>\r\n",
       "<ellipse fill=\"none\" stroke=\"black\" cx=\"606.546\" cy=\"-18\" rx=\"59.2899\" ry=\"18\"/>\r\n",
       "<text text-anchor=\"middle\" x=\"606.546\" y=\"-14.3\" font-family=\"Times New Roman,serif\" font-size=\"14.00\">United States</text>\r\n",
       "</g>\r\n",
       "<!-- 1&#45;&gt;4 -->\r\n",
       "<g id=\"edge1\" class=\"edge\"><title>1&#45;&gt;4</title>\r\n",
       "<path fill=\"none\" stroke=\"black\" d=\"M403.969,-97.0806C436.513,-91.9076 477.262,-83.2069 511.546,-69 522.82,-64.328 523.926,-60.0129 534.546,-54 544.454,-48.3901 555.394,-42.7865 565.691,-37.7596\"/>\r\n",
       "<polygon fill=\"black\" stroke=\"black\" points=\"567.423,-40.8101 574.918,-33.3215 564.389,-34.5018 567.423,-40.8101\"/>\r\n",
       "<text text-anchor=\"middle\" x=\"595.046\" y=\"-57.8\" font-family=\"Times New Roman,serif\" font-size=\"14.00\">was 44th president of</text>\r\n",
       "</g>\r\n",
       "<!-- 1&#45;&gt;4 -->\r\n",
       "<g id=\"edge2\" class=\"edge\"><title>1&#45;&gt;4</title>\r\n",
       "<path fill=\"none\" stroke=\"black\" d=\"M409.149,-101.275C495.081,-96.929 639.443,-87.0236 655.546,-69 664.428,-59.0585 656.704,-48.457 644.972,-39.5862\"/>\r\n",
       "<polygon fill=\"black\" stroke=\"black\" points=\"646.606,-36.4656 636.365,-33.7508 642.678,-42.2595 646.606,-36.4656\"/>\r\n",
       "<text text-anchor=\"middle\" x=\"705.046\" y=\"-57.8\" font-family=\"Times New Roman,serif\" font-size=\"14.00\">was president of</text>\r\n",
       "</g>\r\n",
       "</g>\r\n",
       "</svg>\r\n"
      ],
      "text/plain": [
       "<graphviz.dot.Digraph at 0x211e10433d0>"
      ]
     },
     "execution_count": 7,
     "metadata": {},
     "output_type": "execute_result"
    }
   ],
   "source": [
    "dot.render('kb-demo', view=True) \n",
    "dot"
   ]
  },
  {
   "cell_type": "code",
   "execution_count": null,
   "metadata": {},
   "outputs": [],
   "source": []
  }
 ],
 "metadata": {
  "kernelspec": {
   "display_name": "Python 3",
   "language": "python",
   "name": "python3"
  },
  "language_info": {
   "codemirror_mode": {
    "name": "ipython",
    "version": 3
   },
   "file_extension": ".py",
   "mimetype": "text/x-python",
   "name": "python",
   "nbconvert_exporter": "python",
   "pygments_lexer": "ipython3",
   "version": "3.8.8"
  }
 },
 "nbformat": 4,
 "nbformat_minor": 2
}
