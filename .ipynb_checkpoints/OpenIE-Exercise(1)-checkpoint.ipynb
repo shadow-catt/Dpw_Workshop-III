{
 "cells": [
  {
   "cell_type": "markdown",
   "metadata": {},
   "source": [
    "## Open Information Extraction\n",
    "Open information extraction (open IE) refers to the extraction of relation tuples, typically binary relations, from plain text, such as (Mark Zuckerberg; founded; Facebook). The central difference from other information extraction is that the schema for these relations does not need to be specified in advance; typically the relation name is just the text linking two arguments.\n",
    "- StanfordOpenIE (https://nlp.stanford.edu/software/openie.html) StanfordOpenIE is part of StanfordCoreNLP, which is built on top of PyTorch 1.0.0. \n",
    " - Therefore, first install pytorch (https://pytorch.org/get-started/locally/), select your  os, package, language, cuda , then use the   command to install.\n",
    " - Install StanfordOpenIE using ``pip install stanford-openie``(https://pypi.org/project/stanford-openie/)\n",
    " - Install Java SE Development Kit 8 (https://www.oracle.com/technetwork/java/javase/downloads/jdk8-downloads-2133151.html/)\n",
    " - Install graphviz : conda install python-graphviz\n",
    " - Unzip the stanford-corenlp-full-2018-10-05.zip to \"C:\\Users\\UIC\\stanfordnlp_resources\""
   ]
  },
  {
   "cell_type": "code",
   "execution_count": 1,
   "metadata": {},
   "outputs": [],
   "source": [
    "import nltk\n",
    "from nltk import pos_tag, word_tokenize, ne_chunk, Tree\n",
    "from openie import StanfordOpenIE\n",
    "from graphviz import Digraph\n",
    "import numpy as np"
   ]
  },
  {
   "cell_type": "markdown",
   "metadata": {},
   "source": [
    "### Triple Extraction from text using ``StanfordOpenIE``"
   ]
  },
  {
   "cell_type": "code",
   "execution_count": null,
   "metadata": {},
   "outputs": [],
   "source": [
    "# Example code for using StanfordOpenIE in python\n",
    "from openie import StanfordOpenIE\n",
    "\n",
    "with StanfordOpenIE() as client:\n",
    "    text = 'Barack Obama was the 44th president of the United States'\n",
    "    print('Text: %s.' % text)\n",
    "    for triple in client.annotate(text):\n",
    "        print('|-', triple)"
   ]
  },
  {
   "cell_type": "markdown",
   "metadata": {},
   "source": [
    "For each sentence, StanfordOpenIE will return several triples with high confidence scores. To further refine the results, we can perform filtering by some constraints:\n",
    "- The subjet and object must be named entity from some predfined types\n",
    "- The relation must be verb or verb phrases (chunk rule)\n",
    "\n",
    "Come up with your own refinement strategy to get a better result."
   ]
  },
  {
   "cell_type": "code",
   "execution_count": null,
   "metadata": {
    "scrolled": true
   },
   "outputs": [],
   "source": [
    "def extract_triple(text):\n",
    "    # your implementation\n",
    "    triples = []  # initialize a list to store the result\n",
    "    \n",
    "    def remove(lists,label): \n",
    "        subject = [\"PERSON\"]\n",
    "        labels= [\"PERSON\",\"GPE\", \"ORGANIZATION\", ]\n",
    "        outcome = []  \n",
    "        IN = None\n",
    "        no = [\" on\", \" at\"]\n",
    "        check = list(w_p.keys())\n",
    "        for i in lists:\n",
    "            skip = False\n",
    "            for j in i[0].split(\" \"):\n",
    "                if not j in check:\n",
    "                    continue\n",
    "                if not w_p[j] in subject or skip:\n",
    "                    skip = True\n",
    "                    continue\n",
    "            for j in i[-1].split(\" \"):\n",
    "                if not j in check:\n",
    "                    continue\n",
    "                if w_p[j] == \"IN\":\n",
    "                    IN = j\n",
    "                if not w_p[j] in labels or skip:\n",
    "                    skip = True\n",
    "                    continue\n",
    "            if len(outcome)>1 and i[1] == outcome[-1][1]:\n",
    "                if outcome[-1][-1] in i[-1]:\n",
    "                    i[-1] = i[-1].replace(outcome[-1][-1], \"\").replace(IN+\" \", \"\")\n",
    "                    for n in no:\n",
    "                        if n in i[1][-4:]:\n",
    "                            i[1] = i[1].replace(n, \" \"+IN)\n",
    "                    outcome.append(i)\n",
    "            if not skip:\n",
    "                outcome.append(i)\n",
    "        return outcome\n",
    "    # create a dictionary containing the attribute info of every word\n",
    "    chunks = ne_chunk(pos_tag(word_tokenize(text))) #makeing the chunks for the text in order to get the single words and this pos\n",
    "    w_p = {}#import the words and this pos to this dictionary\n",
    "    for i in chunks:\n",
    "        if type(i)==Tree:\n",
    "            for j in i.leaves()[0]:\n",
    "                w_p[j] = i._label\n",
    "        else:\n",
    "            w_p[i[0]] = i[1]\n",
    "    #extract the text using the StanFordOpenIE()\n",
    "    with StanfordOpenIE() as client:\n",
    "        print('Text: %s.' % text)\n",
    "        for triple in client.annotate(text):\n",
    "            triples.append(list(triple.values()))\n",
    "    triples = remove(triples, w_p)#called back the function and remove the noised word\n",
    "    return triples\n",
    "\n",
    "tr = extract_triple(\"\"\" Barack Obama was the 44th president of the United States, and the first African American to serve in the office.\n",
    "          On October 3, 1992,  Barack Obama married  Michelle Robinson at Trinity United Church in Chicago. \"\"\")\n",
    "print(\"Extracted Triples:\",tr)"
   ]
  },
  {
   "cell_type": "markdown",
   "metadata": {},
   "source": [
    "### Construct the KB from Triples\n",
    "Given the knowledge triples, we need to index all the entities and relations, i.e.,get the entity set and relation set, and represent each triple using entity id and relation id."
   ]
  },
  {
   "cell_type": "code",
   "execution_count": null,
   "metadata": {
    "scrolled": false
   },
   "outputs": [],
   "source": [
    "def KB(triples):\n",
    "    # your implementation\n",
    "    id_en_list = []\n",
    "    re_en_list = []\n",
    "    triples_id=[]\n",
    "    # your implementation\n",
    "    for i in triples:\n",
    "        id_en_list.append(i[0])# the entity ones\n",
    "        id_en_list.append(i[-1])# the relation dict\n",
    "        re_en_list.append(i[1])# the triple dict\n",
    "    id_en_list= list(np.unique(id_en_list))\n",
    "    re_en_list = list(np.unique(re_en_list)) \n",
    "    #for entity dict \n",
    "    id_en = dict(enumerate(id_en_list))\n",
    "    #for relation dict\n",
    "    re_en=dict(enumerate(re_en_list))\n",
    "    # for triples\n",
    "    for i in triples:\n",
    "        tmp = []\n",
    "        tmp.append(id_en_list.index(i[0]))# import subject\n",
    "        tmp.append(re_en_list.index(i[1]))#relation\n",
    "        tmp.append(id_en_list.index(i[2]))#object\n",
    "        triples_id.append(tmp)\n",
    "    return id_en,re_en,triples_id\n",
    "kb = KB(tr)\n",
    "print(\"Entities:\", kb[0], \"\\nRelations:\",kb[1], \"\\nTriples:\",kb[2])\n"
   ]
  },
  {
   "cell_type": "markdown",
   "metadata": {},
   "source": [
    "### Visualize the KB using ``graphviz``\n",
    "- To render the graph, the dependency is a working installation of ``Graphviz`` (https://www.graphviz.org/download/).\n",
    "- After installing Graphviz, make sure that its ``bin/`` subdirectory containing the layout commands for rendering graph descriptions (dot, circo, neato, etc.) is on your systems’ path: On the command-line, ``dot -V`` should print the version of your Graphiz installation.\n",
    "- Refer to https://graphviz.readthedocs.io/en/stable/manual.html for the user guid of graphviz"
   ]
  },
  {
   "cell_type": "code",
   "execution_count": null,
   "metadata": {
    "scrolled": true
   },
   "outputs": [],
   "source": [
    "def visualizeKB(kb_input):\n",
    "    dot = Digraph(comment='KB-Demo') \n",
    "    for i in kb_input[0].keys():\n",
    "        dot.node(str(i), kb_input[0][i])  \n",
    "    for i in kb_input[2]:\n",
    "        dot.edge(str(i[0]),str(i[2]), label=kb_input[1][i[1]])\n",
    "    return dot\n",
    "dot = visualizeKB(kb)\n",
    "print(dot.source)"
   ]
  },
  {
   "cell_type": "code",
   "execution_count": null,
   "metadata": {},
   "outputs": [],
   "source": [
    "dot.render('kb-demo', view=True) \n",
    "dot"
   ]
  },
  {
   "cell_type": "code",
   "execution_count": null,
   "metadata": {},
   "outputs": [],
   "source": []
  }
 ],
 "metadata": {
  "kernelspec": {
   "display_name": "Python 3",
   "language": "python",
   "name": "python3"
  },
  "language_info": {
   "codemirror_mode": {
    "name": "ipython",
    "version": 3
   },
   "file_extension": ".py",
   "mimetype": "text/x-python",
   "name": "python",
   "nbconvert_exporter": "python",
   "pygments_lexer": "ipython3",
   "version": "3.8.8"
  }
 },
 "nbformat": 4,
 "nbformat_minor": 2
}
