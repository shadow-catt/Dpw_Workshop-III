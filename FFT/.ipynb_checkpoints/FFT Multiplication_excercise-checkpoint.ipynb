{
 "cells": [
  {
   "cell_type": "code",
   "execution_count": 1,
   "metadata": {},
   "outputs": [],
   "source": [
    "import itertools, numbers, math\n",
    "import random, unittest"
   ]
  },
  {
   "cell_type": "code",
   "execution_count": 2,
   "metadata": {},
   "outputs": [],
   "source": [
    "# Transform an integer number to a coefficient vector in radix-base\n",
    "def int2vec(number, base):\n",
    "    vec = []\n",
    "    while number > 0:\n",
    "        number, digit = divmod(number, base)\n",
    "        vec.append(int(digit))\n",
    "    return vec"
   ]
  },
  {
   "cell_type": "code",
   "execution_count": 3,
   "metadata": {},
   "outputs": [],
   "source": [
    "# Returns silently if the given value is an integer, otherwise raises a TypeError.\n",
    "def check_int(n):\n",
    "    if not isinstance(n, numbers.Integral):\n",
    "        raise TypeError()"
   ]
  },
  {
   "cell_type": "code",
   "execution_count": 4,
   "metadata": {},
   "outputs": [],
   "source": [
    "# Returns floor(sqrt(n)) for the given integer n >= 0.\n",
    "def sqrt(n):\n",
    "    check_int(n)\n",
    "    if n < 0:\n",
    "        raise ValueError()\n",
    "    i = 1\n",
    "    while i * i <= n:\n",
    "        i *= 2\n",
    "    result = 0\n",
    "    while i > 0:\n",
    "        if (result + i)**2 <= n:\n",
    "            result += i\n",
    "        i //= 2\n",
    "    return result"
   ]
  },
  {
   "cell_type": "code",
   "execution_count": 5,
   "metadata": {},
   "outputs": [],
   "source": [
    "# Tests whether the given integer n >= 2 is a prime number.\n",
    "def is_prime(n):\n",
    "    check_int(n)\n",
    "    if n <= 1:\n",
    "        raise ValueError()\n",
    "    return all((n % i != 0) for i in range(2, sqrt(n) + 1))"
   ]
  },
  {
   "cell_type": "code",
   "execution_count": 6,
   "metadata": {},
   "outputs": [],
   "source": [
    "# Returns a list of unique prime factors of the given integer in\n",
    "# ascending order. For example, unique_prime_factors(60) = [2, 3, 5].\n",
    "def unique_prime_factors(n):\n",
    "    check_int(n)\n",
    "    if n < 1:\n",
    "        raise ValueError()\n",
    "    result = []\n",
    "    i = 2\n",
    "    end = sqrt(n)\n",
    "    while i <= end:\n",
    "        if n % i == 0:\n",
    "            n //= i\n",
    "            result.append(i)\n",
    "            while n % i == 0:\n",
    "                n //= i\n",
    "            end = sqrt(n)\n",
    "        i += 1\n",
    "    if n > 1:\n",
    "        result.append(n)\n",
    "    return result"
   ]
  },
  {
   "cell_type": "code",
   "execution_count": 7,
   "metadata": {},
   "outputs": [],
   "source": [
    "# Returns the multiplicative inverse of n modulo mod. The inverse x has the property that\n",
    "# 0 <= x < mod and (x * n) % mod = 1. The inverse exists if and only if gcd(n, mod) = 1.\n",
    "def reciprocal(n, mod):\n",
    "    check_int(n)\n",
    "    check_int(mod)\n",
    "    if not (0 <= n < mod):\n",
    "        raise ValueError()\n",
    "    x, y = mod, n\n",
    "    a, b = 0, 1\n",
    "    while y != 0:\n",
    "        a, b = b, a - x // y * b\n",
    "        x, y = y, x % y\n",
    "    if x == 1:\n",
    "        return a % mod\n",
    "    else:\n",
    "        raise ValueError(\"Reciprocal does not exist\")"
   ]
  },
  {
   "cell_type": "code",
   "execution_count": 8,
   "metadata": {},
   "outputs": [],
   "source": [
    "# Returns a vector with zero padding on the higher indexes of the input\n",
    "# vector, which satisfies that its length is power of 2.\n",
    "# Example: If the length of vec is 6, we need to pad 2 zeroes to make the length\n",
    "# to 8=2^3, and then double the length by zero padding agin to 16 in order to \n",
    "# avoid overflow; If the length of vec is 8, we just need to pad 8 zeroes.\n",
    "def zero_padding(vec):\n",
    "    #---------------------------------\n",
    "    # please provide your codes here\n",
    "    #---------------------------------\n",
    "    length = len(vec)\n",
    "    i=0\n",
    "    while(2**i<length):\n",
    "        i+=1\n",
    "    \n",
    "    i+=1\n",
    "    padding_len=2**i-length\n",
    "#     print(padding_len)\n",
    "\n",
    "    for i in range(padding_len):\n",
    "        vec.append(0)\n",
    "    \n",
    "    return vec"
   ]
  },
  {
   "cell_type": "code",
   "execution_count": 9,
   "metadata": {},
   "outputs": [
    {
     "data": {
      "text/plain": [
       "[1, 2, 3, 4, 5, 0, 0, 0, 0, 0, 0, 0, 0, 0, 0, 0]"
      ]
     },
     "execution_count": 9,
     "metadata": {},
     "output_type": "execute_result"
    }
   ],
   "source": [
    "vec=[1,2,3,4,5]\n",
    "zero_padding(vec)"
   ]
  },
  {
   "cell_type": "code",
   "execution_count": 10,
   "metadata": {},
   "outputs": [],
   "source": [
    "#Return the minimum modulus according to the input vectors vec0 and vec1. Assume vec0 and vec1 have the same length.\n",
    "#When we have convolution on two vectors of length 𝑛 where each input coefficient value is at most 𝑚 (i.e. 0≤\"x(t),y(t)\"<\"m\"), \n",
    "#the upper bound on each output value is 𝑛𝑚^2. Choosing a minimum modulus 𝑀=𝑛𝑚^2+1.\n",
    "def find_minmod(vec0, vec1):\n",
    "    n = len(vec0)\n",
    "    # getting the max value\n",
    "    maxval = max(val for val in itertools.chain(vec0, vec1))\n",
    "    minmod = maxval**2 * n + 1\n",
    "    return minmod"
   ]
  },
  {
   "cell_type": "code",
   "execution_count": 11,
   "metadata": {},
   "outputs": [],
   "source": [
    "# Returns the smallest modulus n such that n = i * veclen + 1\n",
    "# for some integer i >= 1, n > veclen, and n >= minmod is prime.\n",
    "# Although the loop might run for a long time and create arbitrarily large numbers,\n",
    "# Dirichlet's theorem guarantees that such a prime number must exist.\n",
    "def find_modulus(veclen, minmod):\n",
    "    check_int(veclen)\n",
    "    check_int(minmod)\n",
    "    if veclen < 1 or minmod < 1:\n",
    "        raise ValueError()\n",
    "    c=1\n",
    "    q=c*veclen+1\n",
    "    while q<minmod or not is_prime(q):\n",
    "        # increase one by one\n",
    "        c+=1\n",
    "        q=c*veclen+1\n",
    "    return q"
   ]
  },
  {
   "cell_type": "code",
   "execution_count": 12,
   "metadata": {},
   "outputs": [],
   "source": [
    "# Tests whether val generates the multiplicative group of integers modulo mod. totient\n",
    "# must equal the Euler phi function of mod. In other words, the set of numbers\n",
    "# {val^1 % mod, val^2 % mod, ..., val^totient % mod} is equal to the set of all\n",
    "# numbers in the range (0, mod) that are coprime to mod. If mod is prime, then\n",
    "# totient = mod - 1, and powers of a generator produces all integers in the range [1, mod).\n",
    "# Return True or False.\n",
    "def is_generator(val, totient, mod):\n",
    "    check_int(val)\n",
    "    check_int(totient)\n",
    "    check_int(mod)\n",
    "    if not (0 <= val < mod):\n",
    "        raise ValueError()\n",
    "    if not (1 <= totient < mod):\n",
    "        raise ValueError()\n",
    "    ps = unique_prime_factors(totient)\n",
    "    \n",
    "    if(pow(val,totient,mod)!=1):\n",
    "        return False\n",
    "    \n",
    "    for p in ps:\n",
    "        if(pow(val,totient//p,mod)==1):\n",
    "            return False\n",
    "    \n",
    "    return True"
   ]
  },
  {
   "cell_type": "code",
   "execution_count": 13,
   "metadata": {},
   "outputs": [],
   "source": [
    "def is_generator_with_ps(val, totient, mod,ps):\n",
    "    check_int(val)\n",
    "    check_int(totient)\n",
    "    check_int(mod)\n",
    "    if not (0 <= val < mod):\n",
    "        raise ValueError()\n",
    "    if not (1 <= totient < mod):\n",
    "        raise ValueError()\n",
    "    #---------------------------------\n",
    "    # please provide your codes here\n",
    "    #---------------------------------\n",
    "    if(pow(val,totient,mod)!=1):\n",
    "        return False\n",
    "    for p in ps:\n",
    "        if(pow(val,totient//p,mod)==1):\n",
    "            return False\n",
    "    \n",
    "    return True\n",
    "\n",
    "# Returns an arbitrary generator of the multiplicative group of integers modulo mod.\n",
    "# totient must equal the Euler phi function of mod. If mod is prime, an answer must exist.\n",
    "def find_generator(totient, mod):\n",
    "    check_int(totient)\n",
    "    check_int(mod)\n",
    "    if not (1 <= totient < mod):\n",
    "        raise ValueError()\n",
    "    ps = unique_prime_factors(totient)\n",
    "    for i in range(1, mod):\n",
    "        # this place may calculate the ps repeatively, so it can be imporve\n",
    "        if is_generator_with_ps(i, totient, mod, ps):\n",
    "            return i\n",
    "    raise ValueError(\"No generator exists\")\n",
    "\n"
   ]
  },
  {
   "cell_type": "code",
   "execution_count": 14,
   "metadata": {},
   "outputs": [],
   "source": [
    "# Returns an arbitrary primitive degree-th root of unity modulo mod.totient\n",
    "# totient must be a multiple of degree. If mod is prime, an answer must exist.\n",
    "# Hint: function find_generator() is required.\n",
    "def find_primitive_root(degree, totient, mod):\n",
    "    print ('degree, totient, mod',degree, totient, mod)\n",
    "    check_int(degree)\n",
    "    check_int(totient)\n",
    "    check_int(mod)\n",
    "    if not (1 <= degree <= totient < mod):\n",
    "        raise ValueError()\n",
    "    if totient % degree != 0:\n",
    "        raise ValueError()\n",
    "    \n",
    "    # getting the value of g\n",
    "    g = find_generator(totient,mod)\n",
    "    c = totient // degree\n",
    "    # obtain w\n",
    "    root=pow(g,c,mod)\n",
    "    return root"
   ]
  },
  {
   "cell_type": "code",
   "execution_count": 15,
   "metadata": {},
   "outputs": [],
   "source": [
    "# Returns the forward number-theoretic transform of the given vector with\n",
    "# respect to the given primitive nth root of unity under the given modulus.\n",
    "def dft_ntt(invec, root, mod):\n",
    "    check_int(root)\n",
    "    check_int(mod)\n",
    "    if len(invec) >= mod:\n",
    "        raise ValueError()\n",
    "    if not all((0 <= val < mod) for val in invec):\n",
    "        raise ValueError()\n",
    "    if not (1 <= root < mod):\n",
    "        raise ValueError()\n",
    "    \n",
    "    # fucntion name dft_ntt\n",
    "    outvec = []\n",
    "    length_inv=len(invec)\n",
    "    # go through whole array\n",
    "    for k in range(length_inv):\n",
    "        temp = 0\n",
    "        # get the sum of each number\n",
    "        for t in range(length_inv):\n",
    "            #codes that computes the NTT equation\n",
    "            temp+=invec[t]*pow(root,t*k)\n",
    "        # mod the result\n",
    "        temp=temp%mod\n",
    "        # append the temp number\n",
    "        outvec.append(temp)\n",
    "    return outvec"
   ]
  },
  {
   "cell_type": "code",
   "execution_count": 16,
   "metadata": {},
   "outputs": [],
   "source": [
    "# Returns the inverse number-theoretic transform of the given vector with\n",
    "# respect to the given primitive nth root of unity under the given modulus.\n",
    "def idft_ntt(invec, root, mod):\n",
    "    outvec = dft_ntt(invec, reciprocal(root, mod), mod)\n",
    "    scaler = reciprocal(len(invec), mod)\n",
    "    return [(val * scaler % mod) for val in outvec]"
   ]
  },
  {
   "cell_type": "code",
   "execution_count": 17,
   "metadata": {},
   "outputs": [],
   "source": [
    "def bit_reverse(x,bits):\n",
    "    y = 0\n",
    "    for i in range(bits):\n",
    "        y=(y<<1) | (x&1)\n",
    "        x>>=1\n",
    "    return y\n",
    "\n",
    "# Computes the forward number-theoretic transform in in-place FFT structure of the given vector,\n",
    "# with respect to the given primitive nth root of unity under the given modulus.\n",
    "# The length of the vector must be a power of 2.\n",
    "def dft_fft(vector, root, mod):\n",
    "    n = len(vector)\n",
    "    levels = n.bit_length() - 1\n",
    "    if 1 << levels != n:\n",
    "        raise ValueError(\"Length is not a power of 2\")\n",
    "    \n",
    "    #---------------------------------\n",
    "    # please provide your codes here\n",
    "    #---------------------------------\n",
    "    x=[0]*n\n",
    "    X=[0]*n\n",
    "    \n",
    "    lgn=int(math.log(n,2))\n",
    "    \n",
    "    for i in range(n):\n",
    "        x[bit_reverse(i,levels)]=vector[i]\n",
    "    \n",
    "    for j in range(lgn):\n",
    "        for k in range(int(n/2)):\n",
    "            p_jk=int(k/pow(2,lgn-1-j))*pow(2,lgn-1-j)\n",
    "            X[k] = (x[2*k]+x[2*k+1]*pow(root,p_jk)) % mod\n",
    "            X[k+int(n/2)] = (x[2*k]-x[2*k+1]*pow(root,p_jk))%mod\n",
    "        if(j != lgn-1):\n",
    "            for k in range(0,n):\n",
    "                x[k]=X[k]\n",
    "    return X"
   ]
  },
  {
   "cell_type": "code",
   "execution_count": 18,
   "metadata": {},
   "outputs": [],
   "source": [
    "# Returns the inverse number-theoretic transform (FFT structure) of the given vector with\n",
    "# respect to the given primitive nth root of unity under the given modulus.\n",
    "def idft_fft(invec, root, mod):\n",
    "    outvec = dft_fft(invec, reciprocal(root, mod), mod)\n",
    "    scaler = reciprocal(len(invec), mod)\n",
    "    return [(val * scaler % mod) for val in outvec]"
   ]
  },
  {
   "cell_type": "code",
   "execution_count": 33,
   "metadata": {},
   "outputs": [],
   "source": [
    "def fft_mult(in0, in1):\n",
    "    \n",
    "    #transform integer to vector\n",
    "    base = 10\n",
    "    vec0 = int2vec(in0,base)\n",
    "    vec1 = int2vec(in1,base)\n",
    "\n",
    "    #input validation check\n",
    "    if not (0 < len(vec0) == len(vec1)):\n",
    "        raise ValueError()\n",
    "    if any((val < 0) for val in itertools.chain(vec0, vec1)):\n",
    "        raise ValueError()\n",
    "\n",
    "    #zero padding the vectors to length of power of 2\n",
    "    vec0 = zero_padding(vec0);\n",
    "    vec1 = zero_padding(vec1);\n",
    "\n",
    "    #parameter selction\n",
    "    n = len(vec0)\n",
    "    minmod = find_minmod(vec0, vec1)\n",
    "    mod = find_modulus(n, minmod)\n",
    "    root = find_primitive_root(n, mod-1, mod)\n",
    "\n",
    "    #forward transforms\n",
    "    vec0 = dft_ntt(vec0, root, mod)\n",
    "    vec1 = dft_ntt(vec1, root, mod)\n",
    "\n",
    "    #point-wise multiplication in frequency domain\n",
    "    vec2 = [(x * y % mod) for (x, y) in zip(vec0, vec1)]\n",
    "\n",
    "    #inverse transform\n",
    "    result = idft_ntt(vec2, root, mod)\n",
    "\n",
    "    #transform vector to integer\n",
    "    product = 0\n",
    "    for i in range(len(result)):\n",
    "        product += result[i] * base**i\n",
    "    return product"
   ]
  },
  {
   "cell_type": "code",
   "execution_count": 34,
   "metadata": {},
   "outputs": [],
   "source": [
    "def fft_mult_fft(in0, in1):\n",
    "    \n",
    "    #transform integer to vector\n",
    "    base = 10\n",
    "    vec0 = int2vec(in0,base)\n",
    "    vec1 = int2vec(in1,base)\n",
    "\n",
    "    #input validation check\n",
    "    if not (0 < len(vec0) == len(vec1)):\n",
    "        raise ValueError()\n",
    "    if any((val < 0) for val in itertools.chain(vec0, vec1)):\n",
    "        raise ValueError()\n",
    "\n",
    "    #zero padding the vectors to length of power of 2\n",
    "    vec0 = zero_padding(vec0);\n",
    "    vec1 = zero_padding(vec1);\n",
    "\n",
    "    #parameter selction\n",
    "    n = len(vec0)\n",
    "    minmod = find_minmod(vec0, vec1)\n",
    "    mod = find_modulus(n, minmod)\n",
    "    root = find_primitive_root(n, mod-1, mod)\n",
    "\n",
    "    #forward transforms\n",
    "    vec0 = dft_fft(vec0, root, mod)\n",
    "    vec1 = dft_fft(vec1, root, mod)\n",
    "\n",
    "    #point-wise multiplication in frequency domain\n",
    "    vec2 = [(x * y % mod) for (x, y) in zip(vec0, vec1)]\n",
    "\n",
    "    #inverse transform\n",
    "    result = idft_fft(vec2, root, mod)\n",
    "\n",
    "    #transform vector to integer\n",
    "    product = 0\n",
    "    for i in range(len(result)):\n",
    "        product += result[i] * base**i\n",
    "    return product"
   ]
  },
  {
   "cell_type": "markdown",
   "metadata": {},
   "source": [
    "#### Test find_modulus() function: "
   ]
  },
  {
   "cell_type": "code",
   "execution_count": 35,
   "metadata": {},
   "outputs": [
    {
     "name": "stdout",
     "output_type": "stream",
     "text": [
      "test find modulus pass? True\n"
     ]
    }
   ],
   "source": [
    "#test set 1\n",
    "veclen = 32\n",
    "minimum = 2593\n",
    "expect = 2593\n",
    "actual = find_modulus(veclen, minimum)\n",
    "print ('test find modulus pass?', actual == expect)"
   ]
  },
  {
   "cell_type": "code",
   "execution_count": 36,
   "metadata": {},
   "outputs": [
    {
     "name": "stdout",
     "output_type": "stream",
     "text": [
      "test find modulus pass? True\n"
     ]
    }
   ],
   "source": [
    "#test set 2\n",
    "veclen = 16\n",
    "minimum = 785\n",
    "expect = 881\n",
    "actual = find_modulus(veclen, minimum)\n",
    "print ('test find modulus pass?', actual == expect)"
   ]
  },
  {
   "cell_type": "code",
   "execution_count": 37,
   "metadata": {},
   "outputs": [
    {
     "name": "stdout",
     "output_type": "stream",
     "text": [
      "test find modulus pass? True\n"
     ]
    }
   ],
   "source": [
    "#test set 3\n",
    "veclen = 8\n",
    "minimum = 393\n",
    "expect = 401\n",
    "actual = find_modulus(veclen, minimum)\n",
    "print ('test find modulus pass?', actual == expect)"
   ]
  },
  {
   "cell_type": "markdown",
   "metadata": {},
   "source": [
    "#### Test `is_generator()` function: "
   ]
  },
  {
   "cell_type": "code",
   "execution_count": 38,
   "metadata": {},
   "outputs": [
    {
     "name": "stdout",
     "output_type": "stream",
     "text": [
      "test is generator pass? True\n"
     ]
    }
   ],
   "source": [
    "#test set 1\n",
    "val = 2\n",
    "totient = 400\n",
    "mod = 401\n",
    "expect = False\n",
    "actual = is_generator(val, totient, mod)\n",
    "print ('test is generator pass?', actual == expect)"
   ]
  },
  {
   "cell_type": "code",
   "execution_count": 39,
   "metadata": {},
   "outputs": [
    {
     "name": "stdout",
     "output_type": "stream",
     "text": [
      "test is generator pass? True\n"
     ]
    }
   ],
   "source": [
    "#test set 2\n",
    "val = 3\n",
    "totient = 400\n",
    "mod = 401\n",
    "expect = True\n",
    "actual = is_generator(val, totient, mod)\n",
    "print ('test is generator pass?', actual == expect)"
   ]
  },
  {
   "cell_type": "code",
   "execution_count": 40,
   "metadata": {},
   "outputs": [
    {
     "name": "stdout",
     "output_type": "stream",
     "text": [
      "test is generator pass? True\n"
     ]
    }
   ],
   "source": [
    "#test set 3\n",
    "val = 10\n",
    "totient = 1296\n",
    "mod = 1297\n",
    "expect = True\n",
    "actual = is_generator(val, totient, mod)\n",
    "print ('test is generator pass?', actual == expect)"
   ]
  },
  {
   "cell_type": "markdown",
   "metadata": {},
   "source": [
    "#### Test `find_primitive_root()` function: "
   ]
  },
  {
   "cell_type": "code",
   "execution_count": 41,
   "metadata": {},
   "outputs": [
    {
     "name": "stdout",
     "output_type": "stream",
     "text": [
      "degree, totient, mod 16 1296 1297\n",
      "test find primitive root pass? True\n"
     ]
    }
   ],
   "source": [
    "#test set 1\n",
    "degree = 16\n",
    "totient = 1296\n",
    "mod = 1297\n",
    "expect = 355\n",
    "actual = find_primitive_root(degree, totient, mod)\n",
    "print ('test find primitive root pass?', actual == expect)"
   ]
  },
  {
   "cell_type": "code",
   "execution_count": 42,
   "metadata": {},
   "outputs": [
    {
     "name": "stdout",
     "output_type": "stream",
     "text": [
      "degree, totient, mod 32 2592 2593\n",
      "test find primitive root pass? True\n"
     ]
    }
   ],
   "source": [
    "#test set 2\n",
    "degree = 32\n",
    "totient = 2592\n",
    "mod = 2593\n",
    "expect = 1997\n",
    "actual = find_primitive_root(degree, totient, mod)\n",
    "print ('test find primitive root pass?', actual == expect)"
   ]
  },
  {
   "cell_type": "code",
   "execution_count": 43,
   "metadata": {},
   "outputs": [
    {
     "name": "stdout",
     "output_type": "stream",
     "text": [
      "degree, totient, mod 64 5440 5441\n",
      "test find primitive root pass? True\n"
     ]
    }
   ],
   "source": [
    "#test set 3\n",
    "degree = 64\n",
    "totient = 5440\n",
    "mod = 5441\n",
    "expect = 1638\n",
    "actual = find_primitive_root(degree, totient, mod)\n",
    "print ('test find primitive root pass?', actual == expect)"
   ]
  },
  {
   "cell_type": "markdown",
   "metadata": {},
   "source": [
    "#### Test `forward_transform()` function: "
   ]
  },
  {
   "cell_type": "code",
   "execution_count": 44,
   "metadata": {},
   "outputs": [
    {
     "name": "stdout",
     "output_type": "stream",
     "text": [
      "test forward transform pass? True\n"
     ]
    },
    {
     "data": {
      "text/plain": [
       "[3, 7, 0, 5, 4]"
      ]
     },
     "execution_count": 44,
     "metadata": {},
     "output_type": "execute_result"
    }
   ],
   "source": [
    "actual = dft_ntt([6, 0, 10, 7, 2], 3, 11)\n",
    "expect = [3, 7, 0, 5, 4]\n",
    "print ('test forward transform pass?', actual == expect)\n",
    "actual"
   ]
  },
  {
   "cell_type": "code",
   "execution_count": 45,
   "metadata": {},
   "outputs": [
    {
     "name": "stdout",
     "output_type": "stream",
     "text": [
      "test forward transform pass? True\n"
     ]
    },
    {
     "data": {
      "text/plain": [
       "[15, 36, 495, 305, 670, 546, 170, 463]"
      ]
     },
     "execution_count": 45,
     "metadata": {},
     "output_type": "execute_result"
    }
   ],
   "source": [
    "actual = dft_fft([1,3,5,6,0,0,0,0], 609, 673)\n",
    "expect = [15, 36, 495, 305, 670, 546, 170, 463]\n",
    "print ('test forward transform pass?', actual == expect)\n",
    "actual"
   ]
  },
  {
   "cell_type": "markdown",
   "metadata": {},
   "source": [
    "#### Test `inverse_transform()` function: "
   ]
  },
  {
   "cell_type": "code",
   "execution_count": 46,
   "metadata": {},
   "outputs": [
    {
     "name": "stdout",
     "output_type": "stream",
     "text": [
      "test inverse transform pass? True\n"
     ]
    }
   ],
   "source": [
    "actual = idft_ntt([3, 7, 0, 5, 4], 3, 11)\n",
    "expect = [6, 0, 10, 7, 2]\n",
    "#actual = idft_fft([15, 36, 495, 305, 670, 546, 170, 463], 609, 673)\n",
    "#expect = [1,3,5,6,0,0,0,0]\n",
    "print ('test inverse transform pass?',  actual == expect)"
   ]
  },
  {
   "cell_type": "markdown",
   "metadata": {},
   "source": [
    "#### Test `fft_mult()` function: "
   ]
  },
  {
   "cell_type": "code",
   "execution_count": 50,
   "metadata": {},
   "outputs": [
    {
     "name": "stdout",
     "output_type": "stream",
     "text": [
      "test_main\n",
      "degree, totient, mod 64 5440 5441\n",
      "1883583350253735734193281844636978004\n",
      "1883583350253735734193281844636978004\n",
      "test FFT multiplication pass? True\n",
      "time cost: 0.5581064224243164\n"
     ]
    }
   ],
   "source": [
    "def main():\n",
    "    print ('test_main')\n",
    "    input0 = 1276582236958546324\n",
    "    input1 = 1475489236589542321\n",
    "    time_start = time.time()\n",
    "    result = fft_mult(input0, input1)\n",
    "    time_end = time.time()\n",
    "    print (result)\n",
    "    print (input0 * input1)\n",
    "    print ('test FFT multiplication pass?', result == input0 * input1)\n",
    "    print(\"time cost:\",time_end-time_start)\n",
    "main()"
   ]
  },
  {
   "cell_type": "markdown",
   "metadata": {},
   "source": [
    "#### Test `fft_mult_fft()` function: "
   ]
  },
  {
   "cell_type": "code",
   "execution_count": 51,
   "metadata": {},
   "outputs": [
    {
     "name": "stdout",
     "output_type": "stream",
     "text": [
      "test_main\n",
      "degree, totient, mod 64 5440 5441\n",
      "\n",
      "1883583350253735734193281844636978004\n",
      "1883583350253735734193281844636978004\n",
      "test FFT multiplication pass? True\n",
      "time cost: 0.0020034313201904297\n"
     ]
    }
   ],
   "source": [
    "import time\n",
    "def main():\n",
    "    \n",
    "    \n",
    "    print ('test_main')\n",
    "    input0 = 1276582236958546324\n",
    "    input1 = 1475489236589542321\n",
    "    time_start = time.time()\n",
    "    result = fft_mult_fft(input0, input1)\n",
    "    time_end = time.time()\n",
    "    \n",
    "    print(\"\")\n",
    "    print (result)\n",
    "    print (input0 * input1)\n",
    "    print ('test FFT multiplication pass?', result == input0 * input1)\n",
    "    print(\"time cost:\",time_end-time_start)\n",
    "\n",
    "main()"
   ]
  },
  {
   "cell_type": "code",
   "execution_count": null,
   "metadata": {},
   "outputs": [],
   "source": []
  }
 ],
 "metadata": {
  "kernelspec": {
   "display_name": "Python 3",
   "language": "python",
   "name": "python3"
  },
  "language_info": {
   "codemirror_mode": {
    "name": "ipython",
    "version": 3
   },
   "file_extension": ".py",
   "mimetype": "text/x-python",
   "name": "python",
   "nbconvert_exporter": "python",
   "pygments_lexer": "ipython3",
   "version": "3.8.8"
  },
  "toc": {
   "base_numbering": 1,
   "nav_menu": {},
   "number_sections": true,
   "sideBar": true,
   "skip_h1_title": false,
   "title_cell": "Table of Contents",
   "title_sidebar": "Contents",
   "toc_cell": false,
   "toc_position": {},
   "toc_section_display": true,
   "toc_window_display": false
  }
 },
 "nbformat": 4,
 "nbformat_minor": 2
}
